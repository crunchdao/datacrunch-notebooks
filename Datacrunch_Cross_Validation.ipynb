{
  "nbformat": 4,
  "nbformat_minor": 0,
  "metadata": {
    "colab": {
      "name": "Datacrunch_Cross_Validation.ipynb",
      "provenance": [],
      "collapsed_sections": []
    },
    "kernelspec": {
      "name": "python3",
      "display_name": "Python 3"
    }
  },
  "cells": [
    {
      "cell_type": "markdown",
      "metadata": {
        "id": "MlOO1FiPSeGC"
      },
      "source": [
        "# Import Libraries"
      ]
    },
    {
      "cell_type": "code",
      "metadata": {
        "id": "lF2vmbIpFa1L"
      },
      "source": [
        "# Lib & Dependencies\r\n",
        "import pandas as pd\r\n",
        "import numpy as np\r\n",
        "\r\n",
        "from sklearn import model_selection\r\n",
        "from sklearn.model_selection._split import _BaseKFold, indexable, _num_samples\r\n",
        "from sklearn import metrics\r\n",
        "\r\n",
        "from scipy.stats import spearmanr\r\n",
        "\r\n",
        "import xgboost as xgb"
      ],
      "execution_count": 29,
      "outputs": []
    },
    {
      "cell_type": "markdown",
      "metadata": {
        "id": "kR5PXochSiGa"
      },
      "source": [
        "# Load data"
      ]
    },
    {
      "cell_type": "code",
      "metadata": {
        "id": "7uNfyX3AFjCI"
      },
      "source": [
        "train_datalink_X = 'https://tournament.datacrunch.com/data/X_train.csv'\r\n",
        "train_datalink_y = 'https://tournament.datacrunch.com/data/y_train.csv'\r\n",
        "hackathon_data_link = 'https://tournament.datacrunch.com/data/X_test.csv'"
      ],
      "execution_count": 2,
      "outputs": []
    },
    {
      "cell_type": "code",
      "metadata": {
        "id": "CrHm3uYAFat4"
      },
      "source": [
        "train_data = pd.read_csv(train_datalink_X)\r\n",
        "test_data = pd.read_csv(hackathon_data_link)\r\n",
        "train_targets = pd.read_csv(train_datalink_y)"
      ],
      "execution_count": 5,
      "outputs": []
    },
    {
      "cell_type": "code",
      "metadata": {
        "id": "HFUCQugROCBg"
      },
      "source": [
        "train = train_data.merge(train_targets, left_index=True, right_index=True, how='inner')"
      ],
      "execution_count": 6,
      "outputs": []
    },
    {
      "cell_type": "code",
      "metadata": {
        "colab": {
          "base_uri": "https://localhost:8080/",
          "height": 215
        },
        "id": "8aprBdSuFakX",
        "outputId": "0a3b2d28-ed8d-428e-f3f4-a56e152d90e1"
      },
      "source": [
        "train.head()"
      ],
      "execution_count": 7,
      "outputs": [
        {
          "output_type": "execute_result",
          "data": {
            "text/html": [
              "<div>\n",
              "<style scoped>\n",
              "    .dataframe tbody tr th:only-of-type {\n",
              "        vertical-align: middle;\n",
              "    }\n",
              "\n",
              "    .dataframe tbody tr th {\n",
              "        vertical-align: top;\n",
              "    }\n",
              "\n",
              "    .dataframe thead th {\n",
              "        text-align: right;\n",
              "    }\n",
              "</style>\n",
              "<table border=\"1\" class=\"dataframe\">\n",
              "  <thead>\n",
              "    <tr style=\"text-align: right;\">\n",
              "      <th></th>\n",
              "      <th>Moons</th>\n",
              "      <th>id</th>\n",
              "      <th>Feature_1</th>\n",
              "      <th>Feature_2</th>\n",
              "      <th>Feature_3</th>\n",
              "      <th>Feature_4</th>\n",
              "      <th>Feature_5</th>\n",
              "      <th>Feature_6</th>\n",
              "      <th>Feature_7</th>\n",
              "      <th>Feature_8</th>\n",
              "      <th>Feature_9</th>\n",
              "      <th>Feature_10</th>\n",
              "      <th>Feature_11</th>\n",
              "      <th>Feature_12</th>\n",
              "      <th>Feature_13</th>\n",
              "      <th>target_r</th>\n",
              "      <th>target_g</th>\n",
              "      <th>target_b</th>\n",
              "    </tr>\n",
              "  </thead>\n",
              "  <tbody>\n",
              "    <tr>\n",
              "      <th>0</th>\n",
              "      <td>0</td>\n",
              "      <td>0x5c5369f3e1687b61</td>\n",
              "      <td>0.50</td>\n",
              "      <td>1.0</td>\n",
              "      <td>0.75</td>\n",
              "      <td>0.0</td>\n",
              "      <td>0.0</td>\n",
              "      <td>0.0</td>\n",
              "      <td>0.0</td>\n",
              "      <td>0.0</td>\n",
              "      <td>0.0</td>\n",
              "      <td>0.0</td>\n",
              "      <td>0.00</td>\n",
              "      <td>0.00</td>\n",
              "      <td>0.0</td>\n",
              "      <td>0.75</td>\n",
              "      <td>1.00</td>\n",
              "      <td>0.0</td>\n",
              "    </tr>\n",
              "    <tr>\n",
              "      <th>1</th>\n",
              "      <td>0</td>\n",
              "      <td>0x3874689d0b4888b8</td>\n",
              "      <td>0.50</td>\n",
              "      <td>1.0</td>\n",
              "      <td>0.75</td>\n",
              "      <td>0.0</td>\n",
              "      <td>0.0</td>\n",
              "      <td>0.0</td>\n",
              "      <td>0.0</td>\n",
              "      <td>0.0</td>\n",
              "      <td>0.0</td>\n",
              "      <td>0.0</td>\n",
              "      <td>0.00</td>\n",
              "      <td>0.00</td>\n",
              "      <td>0.0</td>\n",
              "      <td>0.75</td>\n",
              "      <td>0.50</td>\n",
              "      <td>0.0</td>\n",
              "    </tr>\n",
              "    <tr>\n",
              "      <th>2</th>\n",
              "      <td>0</td>\n",
              "      <td>0x8a3fda97cd9219c8</td>\n",
              "      <td>0.75</td>\n",
              "      <td>1.0</td>\n",
              "      <td>0.75</td>\n",
              "      <td>0.0</td>\n",
              "      <td>0.0</td>\n",
              "      <td>0.0</td>\n",
              "      <td>0.0</td>\n",
              "      <td>0.5</td>\n",
              "      <td>0.5</td>\n",
              "      <td>1.0</td>\n",
              "      <td>0.75</td>\n",
              "      <td>0.75</td>\n",
              "      <td>1.0</td>\n",
              "      <td>0.50</td>\n",
              "      <td>1.00</td>\n",
              "      <td>0.5</td>\n",
              "    </tr>\n",
              "    <tr>\n",
              "      <th>3</th>\n",
              "      <td>0</td>\n",
              "      <td>0x6be36f219426c022</td>\n",
              "      <td>0.50</td>\n",
              "      <td>1.0</td>\n",
              "      <td>0.75</td>\n",
              "      <td>0.0</td>\n",
              "      <td>0.0</td>\n",
              "      <td>0.0</td>\n",
              "      <td>0.0</td>\n",
              "      <td>0.0</td>\n",
              "      <td>0.0</td>\n",
              "      <td>0.5</td>\n",
              "      <td>0.50</td>\n",
              "      <td>0.75</td>\n",
              "      <td>0.5</td>\n",
              "      <td>0.25</td>\n",
              "      <td>0.00</td>\n",
              "      <td>0.0</td>\n",
              "    </tr>\n",
              "    <tr>\n",
              "      <th>4</th>\n",
              "      <td>0</td>\n",
              "      <td>0xd4584a6f7e1f2b6a</td>\n",
              "      <td>0.75</td>\n",
              "      <td>1.0</td>\n",
              "      <td>0.75</td>\n",
              "      <td>0.0</td>\n",
              "      <td>0.0</td>\n",
              "      <td>0.0</td>\n",
              "      <td>0.0</td>\n",
              "      <td>0.0</td>\n",
              "      <td>0.0</td>\n",
              "      <td>0.0</td>\n",
              "      <td>0.00</td>\n",
              "      <td>0.00</td>\n",
              "      <td>0.0</td>\n",
              "      <td>0.75</td>\n",
              "      <td>0.75</td>\n",
              "      <td>1.0</td>\n",
              "    </tr>\n",
              "  </tbody>\n",
              "</table>\n",
              "</div>"
            ],
            "text/plain": [
              "   Moons                  id  Feature_1  ...  target_r  target_g  target_b\n",
              "0      0  0x5c5369f3e1687b61       0.50  ...      0.75      1.00       0.0\n",
              "1      0  0x3874689d0b4888b8       0.50  ...      0.75      0.50       0.0\n",
              "2      0  0x8a3fda97cd9219c8       0.75  ...      0.50      1.00       0.5\n",
              "3      0  0x6be36f219426c022       0.50  ...      0.25      0.00       0.0\n",
              "4      0  0xd4584a6f7e1f2b6a       0.75  ...      0.75      0.75       1.0\n",
              "\n",
              "[5 rows x 18 columns]"
            ]
          },
          "metadata": {
            "tags": []
          },
          "execution_count": 7
        }
      ]
    },
    {
      "cell_type": "code",
      "metadata": {
        "colab": {
          "base_uri": "https://localhost:8080/",
          "height": 195
        },
        "id": "ruCBxNygF4hd",
        "outputId": "4ff90b3e-40dc-4609-fe47-5ac364d2a9a2"
      },
      "source": [
        "test_data.head()"
      ],
      "execution_count": 8,
      "outputs": [
        {
          "output_type": "execute_result",
          "data": {
            "text/html": [
              "<div>\n",
              "<style scoped>\n",
              "    .dataframe tbody tr th:only-of-type {\n",
              "        vertical-align: middle;\n",
              "    }\n",
              "\n",
              "    .dataframe tbody tr th {\n",
              "        vertical-align: top;\n",
              "    }\n",
              "\n",
              "    .dataframe thead th {\n",
              "        text-align: right;\n",
              "    }\n",
              "</style>\n",
              "<table border=\"1\" class=\"dataframe\">\n",
              "  <thead>\n",
              "    <tr style=\"text-align: right;\">\n",
              "      <th></th>\n",
              "      <th>Moons</th>\n",
              "      <th>id</th>\n",
              "      <th>Feature_1</th>\n",
              "      <th>Feature_2</th>\n",
              "      <th>Feature_3</th>\n",
              "      <th>Feature_4</th>\n",
              "      <th>Feature_5</th>\n",
              "      <th>Feature_6</th>\n",
              "      <th>Feature_7</th>\n",
              "      <th>Feature_8</th>\n",
              "      <th>Feature_9</th>\n",
              "      <th>Feature_10</th>\n",
              "      <th>Feature_11</th>\n",
              "      <th>Feature_12</th>\n",
              "      <th>Feature_13</th>\n",
              "    </tr>\n",
              "  </thead>\n",
              "  <tbody>\n",
              "    <tr>\n",
              "      <th>0</th>\n",
              "      <td>0</td>\n",
              "      <td>0x33aa5dd041631fa0</td>\n",
              "      <td>0.25</td>\n",
              "      <td>0.00</td>\n",
              "      <td>0.0</td>\n",
              "      <td>0.0</td>\n",
              "      <td>0.0</td>\n",
              "      <td>0.0</td>\n",
              "      <td>0.0</td>\n",
              "      <td>0.00</td>\n",
              "      <td>0.00</td>\n",
              "      <td>0.00</td>\n",
              "      <td>0.00</td>\n",
              "      <td>0.00</td>\n",
              "      <td>0.00</td>\n",
              "    </tr>\n",
              "    <tr>\n",
              "      <th>1</th>\n",
              "      <td>0</td>\n",
              "      <td>0xbd9da03cd0267e56</td>\n",
              "      <td>0.25</td>\n",
              "      <td>0.75</td>\n",
              "      <td>1.0</td>\n",
              "      <td>0.0</td>\n",
              "      <td>0.0</td>\n",
              "      <td>0.0</td>\n",
              "      <td>0.0</td>\n",
              "      <td>0.25</td>\n",
              "      <td>0.25</td>\n",
              "      <td>0.75</td>\n",
              "      <td>0.50</td>\n",
              "      <td>0.50</td>\n",
              "      <td>0.75</td>\n",
              "    </tr>\n",
              "    <tr>\n",
              "      <th>2</th>\n",
              "      <td>0</td>\n",
              "      <td>0xb95b58e7e25a02cf</td>\n",
              "      <td>0.00</td>\n",
              "      <td>0.25</td>\n",
              "      <td>0.0</td>\n",
              "      <td>0.0</td>\n",
              "      <td>0.0</td>\n",
              "      <td>0.0</td>\n",
              "      <td>0.0</td>\n",
              "      <td>0.75</td>\n",
              "      <td>0.75</td>\n",
              "      <td>0.75</td>\n",
              "      <td>1.00</td>\n",
              "      <td>0.50</td>\n",
              "      <td>0.75</td>\n",
              "    </tr>\n",
              "    <tr>\n",
              "      <th>3</th>\n",
              "      <td>0</td>\n",
              "      <td>0xad8af9c07a5770d3</td>\n",
              "      <td>0.25</td>\n",
              "      <td>0.75</td>\n",
              "      <td>1.0</td>\n",
              "      <td>0.0</td>\n",
              "      <td>0.0</td>\n",
              "      <td>0.0</td>\n",
              "      <td>0.0</td>\n",
              "      <td>0.00</td>\n",
              "      <td>0.00</td>\n",
              "      <td>0.00</td>\n",
              "      <td>0.00</td>\n",
              "      <td>0.00</td>\n",
              "      <td>0.00</td>\n",
              "    </tr>\n",
              "    <tr>\n",
              "      <th>4</th>\n",
              "      <td>0</td>\n",
              "      <td>0xcdc024f2efb69bc5</td>\n",
              "      <td>0.25</td>\n",
              "      <td>1.00</td>\n",
              "      <td>0.0</td>\n",
              "      <td>0.0</td>\n",
              "      <td>0.0</td>\n",
              "      <td>0.0</td>\n",
              "      <td>0.0</td>\n",
              "      <td>0.00</td>\n",
              "      <td>0.00</td>\n",
              "      <td>0.50</td>\n",
              "      <td>0.25</td>\n",
              "      <td>0.25</td>\n",
              "      <td>0.50</td>\n",
              "    </tr>\n",
              "  </tbody>\n",
              "</table>\n",
              "</div>"
            ],
            "text/plain": [
              "   Moons                  id  Feature_1  ...  Feature_11  Feature_12  Feature_13\n",
              "0      0  0x33aa5dd041631fa0       0.25  ...        0.00        0.00        0.00\n",
              "1      0  0xbd9da03cd0267e56       0.25  ...        0.50        0.50        0.75\n",
              "2      0  0xb95b58e7e25a02cf       0.00  ...        1.00        0.50        0.75\n",
              "3      0  0xad8af9c07a5770d3       0.25  ...        0.00        0.00        0.00\n",
              "4      0  0xcdc024f2efb69bc5       0.25  ...        0.25        0.25        0.50\n",
              "\n",
              "[5 rows x 15 columns]"
            ]
          },
          "metadata": {
            "tags": []
          },
          "execution_count": 8
        }
      ]
    },
    {
      "cell_type": "markdown",
      "metadata": {
        "id": "SiXkj9LMSniZ"
      },
      "source": [
        "# Set features"
      ]
    },
    {
      "cell_type": "code",
      "metadata": {
        "id": "X8lhzXniMIKV",
        "colab": {
          "base_uri": "https://localhost:8080/"
        },
        "outputId": "67abef0a-917e-4931-bc2f-d3018f854d9b"
      },
      "source": [
        "# Feature columns\n",
        "features = train.columns[train.columns.str.startswith('Feature')]\n",
        "features"
      ],
      "execution_count": 9,
      "outputs": [
        {
          "output_type": "execute_result",
          "data": {
            "text/plain": [
              "Index(['Feature_1', 'Feature_2', 'Feature_3', 'Feature_4', 'Feature_5',\n",
              "       'Feature_6', 'Feature_7', 'Feature_8', 'Feature_9', 'Feature_10',\n",
              "       'Feature_11', 'Feature_12', 'Feature_13'],\n",
              "      dtype='object')"
            ]
          },
          "metadata": {
            "tags": []
          },
          "execution_count": 9
        }
      ]
    },
    {
      "cell_type": "markdown",
      "metadata": {
        "id": "OXIw4yr2SqQD"
      },
      "source": [
        "# Set Targets"
      ]
    },
    {
      "cell_type": "code",
      "metadata": {
        "colab": {
          "base_uri": "https://localhost:8080/"
        },
        "id": "p3HOqPyvOITY",
        "outputId": "0d6162ea-7ce0-4b0b-8b76-75e024c529e4"
      },
      "source": [
        "# Targets columns\r\n",
        "targets = train.columns[train.columns.str.startswith('target')]\r\n",
        "targets"
      ],
      "execution_count": 24,
      "outputs": [
        {
          "output_type": "execute_result",
          "data": {
            "text/plain": [
              "Index(['target_r', 'target_g', 'target_b'], dtype='object')"
            ]
          },
          "metadata": {
            "tags": []
          },
          "execution_count": 24
        }
      ]
    },
    {
      "cell_type": "code",
      "metadata": {
        "id": "7hztXOF3tB45"
      },
      "source": [
        "# Pick target_r\r\n",
        "target = 'target_r'"
      ],
      "execution_count": 25,
      "outputs": []
    },
    {
      "cell_type": "markdown",
      "metadata": {
        "id": "0lIVHkPYquZA"
      },
      "source": [
        "# Set Time group (Moons)"
      ]
    },
    {
      "cell_type": "code",
      "metadata": {
        "colab": {
          "base_uri": "https://localhost:8080/"
        },
        "id": "bZxYqV0Fqut4",
        "outputId": "c5b2dd17-8c42-449a-bf05-acdc008e5539"
      },
      "source": [
        "moons = train.Moons\r\n",
        "moons"
      ],
      "execution_count": 14,
      "outputs": [
        {
          "output_type": "execute_result",
          "data": {
            "text/plain": [
              "0        0\n",
              "1        0\n",
              "2        0\n",
              "3        0\n",
              "4        0\n",
              "        ..\n",
              "6533    13\n",
              "6534    13\n",
              "6535    13\n",
              "6536    13\n",
              "6537    13\n",
              "Name: Moons, Length: 6538, dtype: int64"
            ]
          },
          "metadata": {
            "tags": []
          },
          "execution_count": 14
        }
      ]
    },
    {
      "cell_type": "markdown",
      "metadata": {
        "id": "HexJqSmrqK7L"
      },
      "source": [
        "# Standard Cross Validations"
      ]
    },
    {
      "cell_type": "code",
      "metadata": {
        "id": "f2kLGdnOqJs5"
      },
      "source": [
        "crossvalidators = [\r\n",
        "    model_selection.KFold(3),\r\n",
        "    model_selection.KFold(3, shuffle=True),\r\n",
        "    model_selection.GroupKFold(3),\r\n",
        "    model_selection.TimeSeriesSplit(3)\r\n",
        "]"
      ],
      "execution_count": 13,
      "outputs": []
    },
    {
      "cell_type": "markdown",
      "metadata": {
        "id": "WZ9KMRaZre35"
      },
      "source": [
        "# Metric Spearman Rank Correlation"
      ]
    },
    {
      "cell_type": "code",
      "metadata": {
        "id": "VRzm5mR6rfMs"
      },
      "source": [
        "def spearman(y_true, y_pred): \r\n",
        "    return spearmanr(y_pred, y_true).correlation"
      ],
      "execution_count": 15,
      "outputs": []
    },
    {
      "cell_type": "markdown",
      "metadata": {
        "id": "3AXHEmcEr6zD"
      },
      "source": [
        "# Set Model"
      ]
    },
    {
      "cell_type": "code",
      "metadata": {
        "id": "2hYUCjg8r7Hm"
      },
      "source": [
        "model = xgb.XGBRegressor(objective=\"reg:squarederror\", max_depth=5, learning_rate=0.01, n_estimators=200, n_jobs=-1, colsample_bytree=0.5)"
      ],
      "execution_count": 19,
      "outputs": []
    },
    {
      "cell_type": "markdown",
      "metadata": {
        "id": "wEk0UC8fuHoo"
      },
      "source": [
        "# Calculate Cross Validations Scores"
      ]
    },
    {
      "cell_type": "code",
      "metadata": {
        "colab": {
          "base_uri": "https://localhost:8080/"
        },
        "id": "iKZpmejjqJ1S",
        "outputId": "e0cbd3d8-6e0e-4547-f005-42b308a7a5ec"
      },
      "source": [
        "for cv in crossvalidators:\r\n",
        "    print(cv)\r\n",
        "    print(np.mean(\r\n",
        "            model_selection.cross_val_score(\r\n",
        "            model,\r\n",
        "            train[features],\r\n",
        "            train[target],\r\n",
        "            cv=cv,\r\n",
        "            n_jobs=1,\r\n",
        "            groups=moons,\r\n",
        "            scoring=metrics.make_scorer(spearman, greater_is_better=True)\r\n",
        "        )))\r\n",
        "    print()"
      ],
      "execution_count": 28,
      "outputs": [
        {
          "output_type": "stream",
          "text": [
            "KFold(n_splits=3, random_state=None, shuffle=False)\n",
            "0.003664552146971723\n",
            "\n",
            "KFold(n_splits=3, random_state=None, shuffle=True)\n",
            "0.05660923891616019\n",
            "\n",
            "GroupKFold(n_splits=3)\n",
            "0.013858792104565748\n",
            "\n",
            "TimeSeriesSplit(max_train_size=None, n_splits=3)\n",
            "0.00540922191225974\n",
            "\n"
          ],
          "name": "stdout"
        }
      ]
    },
    {
      "cell_type": "markdown",
      "metadata": {
        "id": "bZ8hQBQGtYp_"
      },
      "source": [
        "# Here is a more elaborated Time-Series CV"
      ]
    },
    {
      "cell_type": "code",
      "metadata": {
        "id": "SG-yflGrqJ6X"
      },
      "source": [
        "class TimeSeriesSplitGroups(_BaseKFold):\r\n",
        "    def __init__(self, n_splits=5):\r\n",
        "        super().__init__(n_splits, shuffle=False, random_state=None)\r\n",
        "\r\n",
        "    def split(self, X, y=None, groups=None):\r\n",
        "        X, y, groups = indexable(X, y, groups)\r\n",
        "        n_samples = _num_samples(X)\r\n",
        "        n_splits = self.n_splits\r\n",
        "        n_folds = n_splits + 1\r\n",
        "        group_list = np.unique(groups)\r\n",
        "        n_groups = len(group_list)\r\n",
        "        if n_folds > n_groups:\r\n",
        "            raise ValueError(\r\n",
        "                (\"Cannot have number of folds ={0} greater\"\r\n",
        "                 \" than the number of samples: {1}.\").format(n_folds,\r\n",
        "                                                             n_groups))\r\n",
        "        indices = np.arange(n_samples)\r\n",
        "        test_size = (n_groups // n_folds)\r\n",
        "        test_starts = range(test_size + n_groups % n_folds,\r\n",
        "                            n_groups, test_size)\r\n",
        "        test_starts = list(test_starts)[::-1]\r\n",
        "        for test_start in test_starts:\r\n",
        "            \r\n",
        "            yield (indices[groups.isin(group_list[:test_start])],\r\n",
        "                   indices[groups.isin(group_list[test_start:test_start + test_size])])"
      ],
      "execution_count": 30,
      "outputs": []
    },
    {
      "cell_type": "code",
      "metadata": {
        "colab": {
          "base_uri": "https://localhost:8080/"
        },
        "id": "031hpfi-qJ9n",
        "outputId": "dc807379-a255-42a5-a339-54f08829f8b9"
      },
      "source": [
        "print(np.mean(\r\n",
        "        model_selection.cross_val_score(\r\n",
        "        model,\r\n",
        "        train[features],\r\n",
        "        train[target],\r\n",
        "        cv=TimeSeriesSplitGroups(3),\r\n",
        "        n_jobs=1,\r\n",
        "        groups=moons,\r\n",
        "        scoring=metrics.make_scorer(spearman, greater_is_better=True)\r\n",
        "    )))\r\n",
        "print(cv)"
      ],
      "execution_count": 31,
      "outputs": [
        {
          "output_type": "stream",
          "text": [
            "0.012727819252278602\n",
            "TimeSeriesSplit(max_train_size=None, n_splits=3)\n"
          ],
          "name": "stdout"
        }
      ]
    },
    {
      "cell_type": "markdown",
      "metadata": {
        "id": "UlIxOTqJv6rQ"
      },
      "source": [
        "# About\r\n",
        "Last updated: 2021-02-25\r\n",
        "\r\n",
        "Created by: [Jeremy Berros](https://github.com/jberros)\r\n",
        "\r\n",
        "Greatly inspired by the works from: [Jon Taylor](https://github.com/jonrtaylor) and [Michael Oliver](https://github.com/the-moliver)"
      ]
    }
  ]
}