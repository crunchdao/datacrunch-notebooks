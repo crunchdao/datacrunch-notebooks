{
  "cells": [
    {
      "cell_type": "markdown",
      "metadata": {
        "colab_type": "text",
        "id": "view-in-github"
      },
      "source": [
        "<a href=\"https://colab.research.google.com/github/rwarnung/datacrunch-notebooks/blob/master/dcrunch_R_example.ipynb\" target=\"_parent\"><img src=\"https://colab.research.google.com/assets/colab-badge.svg\" alt=\"Open In Colab\"/></a>"
      ]
    },
    {
      "cell_type": "markdown",
      "metadata": {
        "id": "TFgTalzpqJX1"
      },
      "source": [
        "**Data crunch example R script**\n",
        "\n",
        "\n",
        "---\n",
        "\n",
        "\n",
        "author: sweet-richard\n",
        "\n",
        "date: Jan 30, 2022\n",
        "\n",
        "required packages:\n",
        "\n",
        "*   `tidyverse` for data handling\n",
        "*   `feather` for efficient loading of data\n",
        "*   `xgboost` for predictive modelling\n",
        "*   `httr`  for the automatic upload.\n",
        "\n"
      ]
    },
    {
      "cell_type": "code",
      "execution_count": 9,
      "metadata": {
        "id": "LuoO8C1ZrCPr"
      },
      "outputs": [],
      "source": [
        "library(tidyverse)\n",
        "library(feather)"
      ]
    },
    {
      "cell_type": "markdown",
      "metadata": {
        "id": "uXH6ovJOrF3o"
      },
      "source": [
        "First, we set some **parameters**.\n",
        "\n",
        "\n",
        "*   `is_download` controls whether you want to download data or just read prevously downloaded data\n",
        "*   `is_upload` set this to TRUE for automatic upload.\n",
        "*   `nrounds` is a parameter for `xgboost` that we set to 100 for illustration. You might want to adjust the paramters of xgboost.\n",
        "\n",
        "\n",
        "\n",
        "\n",
        "\n",
        "\n",
        "\n",
        "\n",
        "\n"
      ]
    },
    {
      "cell_type": "code",
      "execution_count": 18,
      "metadata": {
        "id": "cLijGhNbsBzT"
      },
      "outputs": [],
      "source": [
        "#' ## Parameters\n",
        "file_name_train = \"train_data.feather\"\n",
        "file_name_test =\"test_data.feather\"\n",
        "is_download = TRUE # set this to true to download new data or to FALSE to load data in feather format\n",
        "is_upload = FALSE # set this to true to upload a submission\n",
        "nrounds = 300 # you might want to adjust this one and other parameters of xgboost"
      ]
    },
    {
      "cell_type": "markdown",
      "metadata": {
        "id": "BPsVQNm5sEoK"
      },
      "source": [
        "In the **functions** section we defined the correlation measure that we use to measure performance."
      ]
    },
    {
      "cell_type": "code",
      "execution_count": 11,
      "metadata": {
        "id": "SORefL8KsTIq"
      },
      "outputs": [],
      "source": [
        "#' ## Functions\n",
        "#+ \n",
        "\n",
        "getCorrMeasure = function(actual, predicted) {\n",
        "  cor_measure = cor(actual, predicted, method=\"spearman\")\n",
        "  return(cor_measure)\n",
        "}"
      ]
    },
    {
      "cell_type": "markdown",
      "metadata": {
        "id": "o6Z5mpiwsUzj"
      },
      "source": [
        "Now, we either **download** the current data from the servers or load them in feather format. Furthermore, we define the features that we actually want to use. In this illustration we use all of them but `id` and `Moons`."
      ]
    },
    {
      "cell_type": "code",
      "execution_count": 12,
      "metadata": {
        "colab": {
          "base_uri": "https://localhost:8080/"
        },
        "id": "s79UlORpsgWy",
        "outputId": "2a6482fc-eacf-4269-c046-c152951aaadf"
      },
      "outputs": [
        {
          "name": "stdout",
          "output_type": "stream",
          "text": [
            "\n",
            " start  download"
          ]
        },
        {
          "name": "stderr",
          "output_type": "stream",
          "text": [
            "\u001b[1mRows: \u001b[22m\u001b[34m620386\u001b[39m \u001b[1mColumns: \u001b[22m\u001b[34m51\u001b[39m\n",
            "\n",
            "\u001b[36m──\u001b[39m \u001b[1mColumn specification\u001b[22m \u001b[36m────────────────────────────────────────────────────────\u001b[39m\n",
            "\u001b[1mDelimiter:\u001b[22m \",\"\n",
            "\u001b[31mchr\u001b[39m  (1): id\n",
            "\u001b[32mdbl\u001b[39m (50): Moons, Feature_1, Feature_2, Feature_3, Feature_4, Feature_5, Feat...\n",
            "\n",
            "\n",
            "\u001b[36mℹ\u001b[39m Use \u001b[30m\u001b[47m\u001b[30m\u001b[47m`spec()`\u001b[47m\u001b[30m\u001b[49m\u001b[39m to retrieve the full column specification for this data.\n",
            "\u001b[36mℹ\u001b[39m Specify the column types or set \u001b[30m\u001b[47m\u001b[30m\u001b[47m`show_col_types = FALSE`\u001b[47m\u001b[30m\u001b[49m\u001b[39m to quiet this message.\n",
            "\n",
            "\u001b[1mRows: \u001b[22m\u001b[34m620386\u001b[39m \u001b[1mColumns: \u001b[22m\u001b[34m3\u001b[39m\n",
            "\n",
            "\u001b[36m──\u001b[39m \u001b[1mColumn specification\u001b[22m \u001b[36m────────────────────────────────────────────────────────\u001b[39m\n",
            "\u001b[1mDelimiter:\u001b[22m \",\"\n",
            "\u001b[32mdbl\u001b[39m (3): target_r, target_g, target_b\n",
            "\n",
            "\n",
            "\u001b[36mℹ\u001b[39m Use \u001b[30m\u001b[47m\u001b[30m\u001b[47m`spec()`\u001b[47m\u001b[30m\u001b[49m\u001b[39m to retrieve the full column specification for this data.\n",
            "\u001b[36mℹ\u001b[39m Specify the column types or set \u001b[30m\u001b[47m\u001b[30m\u001b[47m`show_col_types = FALSE`\u001b[47m\u001b[30m\u001b[49m\u001b[39m to quiet this message.\n",
            "\n",
            "\u001b[1mRows: \u001b[22m\u001b[34m347878\u001b[39m \u001b[1mColumns: \u001b[22m\u001b[34m51\u001b[39m\n",
            "\n",
            "\u001b[36m──\u001b[39m \u001b[1mColumn specification\u001b[22m \u001b[36m────────────────────────────────────────────────────────\u001b[39m\n",
            "\u001b[1mDelimiter:\u001b[22m \",\"\n",
            "\u001b[31mchr\u001b[39m  (1): id\n",
            "\u001b[32mdbl\u001b[39m (50): Moons, Feature_1, Feature_2, Feature_3, Feature_4, Feature_5, Feat...\n",
            "\n",
            "\n",
            "\u001b[36mℹ\u001b[39m Use \u001b[30m\u001b[47m\u001b[30m\u001b[47m`spec()`\u001b[47m\u001b[30m\u001b[49m\u001b[39m to retrieve the full column specification for this data.\n",
            "\u001b[36mℹ\u001b[39m Specify the column types or set \u001b[30m\u001b[47m\u001b[30m\u001b[47m`show_col_types = FALSE`\u001b[47m\u001b[30m\u001b[49m\u001b[39m to quiet this message.\n",
            "\n"
          ]
        },
        {
          "name": "stdout",
          "output_type": "stream",
          "text": [
            "\n",
            " data is downloaded"
          ]
        }
      ],
      "source": [
        "#' ## Download data\n",
        "#' after the download, data is stored in feather format to be read on demand quickly. Data is stored in integer format to save memory.\n",
        "#+\n",
        "\n",
        "if( is_download ) {\n",
        "  \n",
        "  cat(\"\\n start  download\")\n",
        "  train_datalink_X = 'https://tournament.datacrunch.com/data/X_train.csv'  \n",
        "  train_datalink_y = 'https://tournament.datacrunch.com/data/y_train.csv' \n",
        "  hackathon_data_link = 'https://tournament.datacrunch.com/data/X_test.csv' \n",
        "  \n",
        "  train_dataX = read_csv(url(train_datalink_X))\n",
        "  train_dataY = read_csv(url(train_datalink_y))\n",
        "  test_data  = read_csv(url(hackathon_data_link))\n",
        "  \n",
        "  train_data = \n",
        "    bind_cols( train_dataX, train_dataY)\n",
        "  \n",
        "  train_data = train_data %>% mutate_at(vars(starts_with(\"feature_\")), list(~as.integer(.*100)))\n",
        "  feather::write_feather(train_data, path = paste0(\"./\", file_name_train))\n",
        "  \n",
        "  test_data = test_data %>% mutate_at(vars(starts_with(\"feature_\")), list(~as.integer(.*100)))\n",
        "  feather::write_feather(test_data, path = paste0(\"./\", file_name_test))\n",
        "  \n",
        "  names(train_data)\n",
        "  \n",
        "  nrow(train_data)\n",
        "  nrow(test_data)\n",
        "  \n",
        "  cat(\"\\n data is downloaded\")\n",
        "} else {\n",
        "  train_data = feather::read_feather(path = paste0(\"./\", file_name_train))\n",
        "  test_data =  feather::read_feather(path = paste0(\"./\", file_name_test))\n",
        "}\n",
        "\n",
        "## set vars used for modelling \n",
        "model_vars = setdiff(names(test_data), c(\"id\",\"Moons\"))"
      ]
    },
    {
      "cell_type": "markdown",
      "metadata": {
        "id": "oFKXPEz7sul6"
      },
      "source": [
        "Next we fit our go-to algorithm **xgboost** with mainly default parameters, only `eta` and `max_depth` are set."
      ]
    },
    {
      "cell_type": "code",
      "execution_count": 13,
      "metadata": {
        "colab": {
          "base_uri": "https://localhost:8080/"
        },
        "id": "XRCUI6Oxt70r",
        "outputId": "4b58e711-5854-43d2-e702-747a9e14aedb"
      },
      "outputs": [
        {
          "name": "stdout",
          "output_type": "stream",
          "text": [
            "\n",
            " starting xgboost \n"
          ]
        }
      ],
      "source": [
        "#' ## Fit xgboost\n",
        "#+ cache = TRUE\n",
        "\n",
        "library(xgboost, warn.conflicts = FALSE)\n",
        "\n",
        "# custom loss function for eval  \n",
        "corrmeasure <- function(preds, dtrain) {\n",
        "  labels <- getinfo(dtrain, \"label\")\n",
        "  corrm <- as.numeric(cor(labels, preds, method=\"spearman\"))\n",
        "  return(list(metric = \"corr\", value = corrm))\n",
        "}\n",
        "  \n",
        "eval_metric_string =  \"rmse\"\n",
        "my_objective = \"reg:squarederror\"\n",
        "\n",
        "tree.params = list(\n",
        "  booster = \"gbtree\", eta = 0.01, max_depth = 5,\n",
        "  tree_method = \"hist\", #  tree_method = \"auto\",\n",
        "  objective = my_objective)\n",
        "\n",
        "cat(\"\\n starting xgboost \\n\")\n"
      ]
    },
    {
      "cell_type": "markdown",
      "metadata": {
        "id": "NZLrJA7ct_Xi"
      },
      "source": [
        "**First target** `target_r`"
      ]
    },
    {
      "cell_type": "code",
      "execution_count": 19,
      "metadata": {
        "colab": {
          "base_uri": "https://localhost:8080/"
        },
        "id": "2p-_MZ_HuMg0",
        "outputId": "0934b080-76c7-42e0-f20a-975e3b6509e8"
      },
      "outputs": [
        {
          "name": "stdout",
          "output_type": "stream",
          "text": [
            "\n",
            " : metric:  rmse \n",
            "[1] \"Corrm on train: 0.0867\"\n",
            "[1] \"xgboost target_r ready\"\n"
          ]
        }
      ],
      "source": [
        "# first target target_r then g and b\n",
        "################\n",
        "current_target = \"target_r\"\n",
        "  \n",
        "dtrain = xgb.DMatrix(train_data %>% select(one_of(model_vars)) %>% as.matrix(), label = train_data %>% select(one_of(current_target))  %>% as.matrix())\n",
        "  \n",
        "xgb.model.tree = xgb.train(data = dtrain,  \n",
        "                           params = tree.params, nrounds = nrounds, verbose = 1, \n",
        "                           print_every_n = 50L, eval_metric = corrmeasure) \n",
        "  \n",
        "xgboost_tree_train_pred1 = predict(xgb.model.tree, train_data %>% select(one_of(model_vars)) %>% as.matrix())\n",
        "xgboost_tree_live_pred1 = predict(xgb.model.tree, test_data %>% select(one_of(model_vars)) %>% as.matrix())\n",
        "  \n",
        "cor_train = getCorrMeasure(train_data %>% select(one_of(current_target)), xgboost_tree_train_pred1)\n",
        "  \n",
        "cat(\"\\n : metric: \", eval_metric_string, \"\\n\")\n",
        "print(paste0(\"Corrm on train: \", round(cor_train,4)))\n",
        "\n",
        "print(paste(\"xgboost\", current_target, \"ready\"))"
      ]
    },
    {
      "cell_type": "markdown",
      "metadata": {
        "id": "tG0gHLj8uPpT"
      },
      "source": [
        "**Second target** `target_g`"
      ]
    },
    {
      "cell_type": "code",
      "execution_count": 20,
      "metadata": {
        "colab": {
          "base_uri": "https://localhost:8080/"
        },
        "id": "FMdnSVKGuVy7",
        "outputId": "7f7fc450-459e-41be-d122-ec1ddcb4d145"
      },
      "outputs": [
        {
          "name": "stdout",
          "output_type": "stream",
          "text": [
            "\n",
            " : metric:  rmse \n",
            "[1] \"Corrm on train: 0.1099\"\n",
            "[1] \"xgboost target_g ready\"\n"
          ]
        }
      ],
      "source": [
        "# second target target_g\n",
        "################\n",
        "current_target = \"target_g\"\n",
        "  \n",
        "dtrain = xgb.DMatrix(train_data %>% select(one_of(model_vars)) %>% as.matrix(), label = train_data %>% select(one_of(current_target))  %>% as.matrix())\n",
        "\n",
        "xgb.model.tree = xgb.train(data = dtrain,  \n",
        "                           params = tree.params, nrounds = nrounds, verbose = 1, \n",
        "                           print_every_n = 50L, eval_metric = corrmeasure) \n",
        "\n",
        "xgboost_tree_train_pred2 = predict(xgb.model.tree, train_data %>% select(one_of(model_vars)) %>% as.matrix())\n",
        "xgboost_tree_live_pred2 = predict(xgb.model.tree, test_data %>% select(one_of(model_vars)) %>% as.matrix())\n",
        "\n",
        "cor_train = getCorrMeasure(train_data %>% select(one_of(current_target)), xgboost_tree_train_pred2)\n",
        "\n",
        "cat(\"\\n : metric: \", eval_metric_string, \"\\n\")\n",
        "print(paste0(\"Corrm on train: \", round(cor_train,4)))\n",
        "\n",
        "print(paste(\"xgboost\", current_target, \"ready\"))"
      ]
    },
    {
      "cell_type": "markdown",
      "metadata": {
        "id": "-Ir5rC3duaOj"
      },
      "source": [
        "**Third target** `target_b`"
      ]
    },
    {
      "cell_type": "code",
      "execution_count": 21,
      "metadata": {
        "colab": {
          "base_uri": "https://localhost:8080/"
        },
        "id": "CH6lae_auVcE",
        "outputId": "4998cc30-cf8c-42a5-c1f7-6e5154c872ce"
      },
      "outputs": [
        {
          "name": "stdout",
          "output_type": "stream",
          "text": [
            "\n",
            " : metric:  rmse \n",
            "[1] \"Corrm on train: 0.1232\"\n",
            "[1] \"xgboost target_b ready\"\n"
          ]
        }
      ],
      "source": [
        "# third target target_b\n",
        "################\n",
        "current_target = \"target_b\"\n",
        "\n",
        "dtrain = xgb.DMatrix(train_data %>% select(one_of(model_vars)) %>% as.matrix(), label = train_data %>% select(one_of(current_target))  %>% as.matrix())\n",
        "\n",
        "xgb.model.tree = xgb.train(data = dtrain,  \n",
        "                           params = tree.params, nrounds = nrounds, verbose = 1, \n",
        "                           print_every_n = 50L, eval_metric = corrmeasure) \n",
        "\n",
        "xgboost_tree_train_pred3 = predict(xgb.model.tree, train_data %>% select(one_of(model_vars)) %>% as.matrix())\n",
        "xgboost_tree_live_pred3 = predict(xgb.model.tree, test_data %>% select(one_of(model_vars)) %>% as.matrix())\n",
        "\n",
        "cor_train = getCorrMeasure(train_data %>% select(one_of(current_target)), xgboost_tree_train_pred3)\n",
        "\n",
        "cat(\"\\n : metric: \", eval_metric_string, \"\\n\")\n",
        "print(paste0(\"Corrm on train: \", round(cor_train,4)))\n",
        "\n",
        "print(paste(\"xgboost\", current_target, \"ready\"))"
      ]
    },
    {
      "cell_type": "markdown",
      "metadata": {
        "id": "SaeEwhBBunaL"
      },
      "source": [
        "Then we produce simply histogram plots to see whether the predictions are plausible and prepare a **submission file**:"
      ]
    },
    {
      "cell_type": "code",
      "execution_count": 23,
      "metadata": {
        "colab": {
          "base_uri": "https://localhost:8080/",
          "height": 1000
        },
        "id": "G3_P3g7busLD",
        "outputId": "e9d8d670-866f-4592-8738-eaa20de45223"
      },
      "outputs": [
        {
          "data": {
            "image/png": "[encoded data removed]",
            "text/plain": [
              "Plot with title “Histogram of xgboost_tree_live_pred1”"
            ]
          },
          "metadata": {
            "image/png": {
              "height": 420,
              "width": 420
            }
          },
          "output_type": "display_data"
        },
        {
          "data": {
            "image/png": "[encoded data removed]",
            "text/plain": [
              "Plot with title “Histogram of xgboost_tree_live_pred2”"
            ]
          },
          "metadata": {
            "image/png": {
              "height": 420,
              "width": 420
            }
          },
          "output_type": "display_data"
        },
        {
          "data": {
            "text/html": [
              "347878"
            ],
            "text/latex": [
              "347878"
            ],
            "text/markdown": [
              "347878"
            ],
            "text/plain": [
              "[1] 347878"
            ]
          },
          "metadata": {},
          "output_type": "display_data"
        },
        {
          "name": "stdout",
          "output_type": "stream",
          "text": [
            "\n",
            " submission file written"
          ]
        },
        {
          "data": {
            "image/png": "[encoded data removed]",
            "text/plain": [
              "Plot with title “Histogram of xgboost_tree_live_pred3”"
            ]
          },
          "metadata": {
            "image/png": {
              "height": 420,
              "width": 420
            }
          },
          "output_type": "display_data"
        }
      ],
      "source": [
        "#' ## Submission\n",
        "#' simple histograms to check the submissions\n",
        "#+\n",
        "hist(xgboost_tree_live_pred1)\n",
        "hist(xgboost_tree_live_pred2)\n",
        "hist(xgboost_tree_live_pred3)\n",
        "  \n",
        "#' create submission file\n",
        "#+\n",
        "sub_df = tibble(target_r = xgboost_tree_live_pred1, \n",
        "                target_g = xgboost_tree_live_pred2, \n",
        "                target_b = xgboost_tree_live_pred3)\n",
        "  \n",
        "file_name_submission = paste0(\"gbTree_\", gsub(\"-\",\"\",Sys.Date()), \".csv\")\n",
        "\n",
        "sub_df %>% readr::write_csv(file = paste0(\"./\", file_name_submission))\n",
        "nrow(sub_df)\n",
        "\n",
        "cat(\"\\n submission file written\")"
      ]
    },
    {
      "cell_type": "markdown",
      "metadata": {
        "id": "GBk_awhuu8Rr"
      },
      "source": [
        "Finally, we can **automatically upload** the file to the server:"
      ]
    },
    {
      "cell_type": "code",
      "execution_count": null,
      "metadata": {
        "id": "o1FoJ0TWqD1V"
      },
      "outputs": [],
      "source": [
        "#' ## Upload submission\n",
        "#+\n",
        "if( is_upload ) {\n",
        "  library(httr)\n",
        "  \n",
        "  API_KEY = \"YourKeyHere\"\n",
        "  \n",
        "  response <- POST(\n",
        "    url = \"https://tournament.crunchdao.com/api/v2/submissions\",\n",
        "    query = list(apiKey = API_KEY),\n",
        "    body = list(\n",
        "      file = upload_file(path = paste0(\"./\", file_name_submission))\n",
        "    ),\n",
        "    encode = c(\"multipart\")\n",
        "  );\n",
        "  \n",
        "  status <- status_code(response)\n",
        "  \n",
        "  if (status == 200) {\n",
        "    print(\"Submission submitted :)\")\n",
        "  } else if (status == 400) {\n",
        "    print(\"ERR: The file must not be empty\")\n",
        "    print(\"You have send a empty file.\")\n",
        "  } else if (status == 401) {\n",
        "    print(\"ERR: Your email hasn't been verified\")\n",
        "    print(\"Please verify your email or contact a cruncher.\")\n",
        "  } else if (status == 403) {\n",
        "    print(\"ERR: Not authentified\")\n",
        "    print(\"Is the API Key valid?\")\n",
        "  } else if (status == 404) {\n",
        "    print(\"ERR: Unknown API Key\")\n",
        "    print(\"You should check that the provided API key is valid and is the same as the one you've received by email.\")\n",
        "  } else if (status == 409) {\n",
        "    print(\"ERR: Duplicate submission\")\n",
        "    print(\"Your work has already been submitted with the same exact results, if you think that this a false positive, contact a cruncher.\")\n",
        "    print(\"MD5 collision probability: 1/2^128 (source: https://stackoverflow.com/a/288519/7292958)\")\n",
        "  } else if (status == 422) {\n",
        "    print(\"ERR: API Key is missing or empty\")\n",
        "    print(\"Did you forget to fill the API_KEY variable?\")\n",
        "  } else if (status == 423) {\n",
        "    print(\"ERR: Submissions are close\")\n",
        "    print(\"You can only submit during rounds eg: Friday 7pm GMT+1 to Sunday midnight GMT+1.\")\n",
        "    print(\"Or the server is currently crunching the submitted files, please wait some time before retrying.\")\n",
        "  } else if (status == 423) {\n",
        "    print(\"ERR: Too many submissions\")\n",
        "  } else {\n",
        "    content <- httr::content(response)\n",
        "    print(\"ERR: Server returned: \" + toString(status))\n",
        "    print(\"Ouch! It seems that we were not expecting this kind of result from the server, if the probleme persist, contact a cruncher.\")\n",
        "    print(paste(\"Message:\", content$message, sep=\" \"))\n",
        "  }\n",
        "  \n",
        "  # DEVELOPER WARNING:\n",
        "  # THE API ERROR CODE WILL BE HANDLER DIFFERENTLY IN A NEAR FUTURE!\n",
        "  # PLEASE STAY UPDATED BY JOINING THE DISCORD (https://discord.gg/veAtzsYn3M) AND READING THE NEWSLETTER EMAIL\n",
        "}"
      ]
    }
  ],
  "metadata": {
    "colab": {
      "authorship_tag": "ABX9TyPS/gCyKtb/CiMPTbVoSDVl",
      "collapsed_sections": [],
      "include_colab_link": true,
      "name": "dcrunch_R_example.ipynb",
      "provenance": []
    },
    "kernelspec": {
      "display_name": "Python 3",
      "language": "python",
      "name": "python3"
    },
    "language_info": {
      "name": "python",
      "version": "3.9.16 (main, Jan  2 2023, 17:30:24) \n[GCC 11.3.0]"
    },
    "vscode": {
      "interpreter": {
        "hash": "089b01a02bffe9aaebf7c1d1c15dfcabf0b6eb8680835f8b4303bc7c7964f23e"
      }
    }
  },
  "nbformat": 4,
  "nbformat_minor": 0
}
