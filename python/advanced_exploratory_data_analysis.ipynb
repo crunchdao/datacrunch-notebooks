{
 "cells": [
  {
   "cell_type": "markdown",
   "metadata": {
    "id": "MlOO1FiPSeGC"
   },
   "source": [
    "## 0. Import Libraries"
   ]
  },
  {
   "cell_type": "code",
   "execution_count": 13,
   "metadata": {
    "id": "lF2vmbIpFa1L"
   },
   "outputs": [],
   "source": [
    "# Lib & Dependencies\n",
    "import pandas as pd\n",
    "import numpy as np\n",
    "import xgboost as xgb\n",
    "import scipy\n",
    "\n",
    "import seaborn as sns\n",
    "import matplotlib.pyplot as plt\n",
    "\n",
    "import requests\n",
    "import gc\n",
    "\n",
    "import crunchdao"
   ]
  },
  {
   "cell_type": "markdown",
   "metadata": {
    "id": "kR5PXochSiGa"
   },
   "source": [
    "## 1. Download data"
   ]
  },
  {
   "cell_type": "code",
   "execution_count": 14,
   "metadata": {},
   "outputs": [
    {
     "data": {
      "text/plain": [
       "['./X_train.parquet',\n",
       " './y_train.parquet',\n",
       " './X_test.parquet',\n",
       " './example_submission.parquet']"
      ]
     },
     "execution_count": 14,
     "metadata": {},
     "output_type": "execute_result"
    }
   ],
   "source": [
    "client = crunchdao.Client(apikey=\"\")\n",
    "# Chose a file format between parquet and csv \n",
    "file_format = 'parquet'\n",
    "\n",
    "# Download current dataset\n",
    "client.download_data(directory=\".\", file_format=file_format)"
   ]
  },
  {
   "cell_type": "code",
   "execution_count": 15,
   "metadata": {},
   "outputs": [],
   "source": [
    "if file_format == 'parquet':\n",
    "  # Data for training\n",
    "  train_features = pd.read_parquet(f'./X_train.{file_format}')\n",
    "  # Data for which you will submit your prediction\n",
    "  test_data = pd.read_parquet(f'./X_test.{file_format}')\n",
    "  # Targets use for your supervised training\n",
    "  train_targets = pd.read_parquet(f'./y_train.{file_format}')\n",
    "  # Exemple of an awaited submission\n",
    "  example_submission = pd.read_parquet(f'./example_submission.{file_format}')\n",
    "elif file_format == 'csv':\n",
    "  # Data for training\n",
    "  train_features = pd.read_csv(f'./X_train.{file_format}')\n",
    "  # Data for which you will submit your prediction\n",
    "  test_data = pd.read_csv(f'./X_test.{file_format}')\n",
    "  # Targets use for your supervised training\n",
    "  train_targets = pd.read_csv(f'./y_train.{file_format}')\n",
    "  # Exemple of an awaited submission\n",
    "  example_submission = pd.read_csv(f'./example_submission.{file_format}')"
   ]
  },
  {
   "cell_type": "code",
   "execution_count": 16,
   "metadata": {},
   "outputs": [
    {
     "data": {
      "text/plain": [
       "0"
      ]
     },
     "execution_count": 16,
     "metadata": {},
     "output_type": "execute_result"
    }
   ],
   "source": [
    "# Merge train_features and train_targets for ease of use\n",
    "train_data = pd.merge(train_features, train_targets, on=['id', 'Moons'], how='inner')\n",
    "\n",
    "del train_features, train_targets\n",
    "gc.collect()"
   ]
  },
  {
   "cell_type": "code",
   "execution_count": 17,
   "metadata": {},
   "outputs": [],
   "source": [
    "# Get the features columns name and the targets columns name\n",
    "features = [col for col in train_data.columns if 'Feature' in col]\n",
    "targets = [col for col in train_data.columns if 'target' in col]"
   ]
  },
  {
   "cell_type": "code",
   "execution_count": 18,
   "metadata": {},
   "outputs": [
    {
     "data": {
      "text/html": [
       "<div>\n",
       "<style scoped>\n",
       "    .dataframe tbody tr th:only-of-type {\n",
       "        vertical-align: middle;\n",
       "    }\n",
       "\n",
       "    .dataframe tbody tr th {\n",
       "        vertical-align: top;\n",
       "    }\n",
       "\n",
       "    .dataframe thead th {\n",
       "        text-align: right;\n",
       "    }\n",
       "</style>\n",
       "<table border=\"1\" class=\"dataframe\">\n",
       "  <thead>\n",
       "    <tr style=\"text-align: right;\">\n",
       "      <th></th>\n",
       "      <th>id</th>\n",
       "      <th>Moons</th>\n",
       "      <th>wrythm_Feature_1</th>\n",
       "      <th>wrythm_Feature_2</th>\n",
       "      <th>wrythm_Feature_3</th>\n",
       "      <th>wrythm_Feature_4</th>\n",
       "      <th>wrythm_Feature_5</th>\n",
       "      <th>wrythm_Feature_6</th>\n",
       "      <th>wrythm_Feature_7</th>\n",
       "      <th>wrythm_Feature_8</th>\n",
       "      <th>...</th>\n",
       "      <th>3b1-signal_Feature_46</th>\n",
       "      <th>3b1-signal_Feature_47</th>\n",
       "      <th>3b1-signal_Feature_48</th>\n",
       "      <th>3b1-signal_Feature_49</th>\n",
       "      <th>3b1-signal_Feature_50</th>\n",
       "      <th>3b1-signal_Feature_51</th>\n",
       "      <th>target_w</th>\n",
       "      <th>target_r</th>\n",
       "      <th>target_g</th>\n",
       "      <th>target_b</th>\n",
       "    </tr>\n",
       "  </thead>\n",
       "  <tbody>\n",
       "    <tr>\n",
       "      <th>0</th>\n",
       "      <td>58950</td>\n",
       "      <td>0</td>\n",
       "      <td>0.83</td>\n",
       "      <td>0.33</td>\n",
       "      <td>0.33</td>\n",
       "      <td>0.67</td>\n",
       "      <td>0.33</td>\n",
       "      <td>0.00</td>\n",
       "      <td>0.33</td>\n",
       "      <td>0.33</td>\n",
       "      <td>...</td>\n",
       "      <td>0.33</td>\n",
       "      <td>0.67</td>\n",
       "      <td>0.33</td>\n",
       "      <td>0.50</td>\n",
       "      <td>0.83</td>\n",
       "      <td>0.17</td>\n",
       "      <td>0.50</td>\n",
       "      <td>0.33</td>\n",
       "      <td>0.50</td>\n",
       "      <td>0.33</td>\n",
       "    </tr>\n",
       "    <tr>\n",
       "      <th>1</th>\n",
       "      <td>72918</td>\n",
       "      <td>0</td>\n",
       "      <td>0.17</td>\n",
       "      <td>0.50</td>\n",
       "      <td>0.50</td>\n",
       "      <td>0.17</td>\n",
       "      <td>0.67</td>\n",
       "      <td>0.50</td>\n",
       "      <td>0.50</td>\n",
       "      <td>0.50</td>\n",
       "      <td>...</td>\n",
       "      <td>0.50</td>\n",
       "      <td>0.33</td>\n",
       "      <td>0.00</td>\n",
       "      <td>0.00</td>\n",
       "      <td>0.67</td>\n",
       "      <td>0.67</td>\n",
       "      <td>0.67</td>\n",
       "      <td>0.33</td>\n",
       "      <td>0.50</td>\n",
       "      <td>0.67</td>\n",
       "    </tr>\n",
       "    <tr>\n",
       "      <th>2</th>\n",
       "      <td>99888</td>\n",
       "      <td>0</td>\n",
       "      <td>0.00</td>\n",
       "      <td>0.67</td>\n",
       "      <td>0.33</td>\n",
       "      <td>0.83</td>\n",
       "      <td>0.67</td>\n",
       "      <td>0.00</td>\n",
       "      <td>1.00</td>\n",
       "      <td>0.33</td>\n",
       "      <td>...</td>\n",
       "      <td>0.00</td>\n",
       "      <td>0.50</td>\n",
       "      <td>0.33</td>\n",
       "      <td>0.50</td>\n",
       "      <td>0.67</td>\n",
       "      <td>0.67</td>\n",
       "      <td>0.67</td>\n",
       "      <td>0.67</td>\n",
       "      <td>0.67</td>\n",
       "      <td>0.83</td>\n",
       "    </tr>\n",
       "    <tr>\n",
       "      <th>3</th>\n",
       "      <td>205230</td>\n",
       "      <td>0</td>\n",
       "      <td>0.00</td>\n",
       "      <td>0.67</td>\n",
       "      <td>0.50</td>\n",
       "      <td>0.67</td>\n",
       "      <td>0.67</td>\n",
       "      <td>0.50</td>\n",
       "      <td>0.50</td>\n",
       "      <td>0.67</td>\n",
       "      <td>...</td>\n",
       "      <td>0.50</td>\n",
       "      <td>0.50</td>\n",
       "      <td>0.67</td>\n",
       "      <td>0.83</td>\n",
       "      <td>0.17</td>\n",
       "      <td>0.83</td>\n",
       "      <td>0.33</td>\n",
       "      <td>0.50</td>\n",
       "      <td>0.67</td>\n",
       "      <td>0.50</td>\n",
       "    </tr>\n",
       "    <tr>\n",
       "      <th>4</th>\n",
       "      <td>121182</td>\n",
       "      <td>0</td>\n",
       "      <td>0.17</td>\n",
       "      <td>0.33</td>\n",
       "      <td>0.17</td>\n",
       "      <td>0.50</td>\n",
       "      <td>1.00</td>\n",
       "      <td>0.33</td>\n",
       "      <td>0.67</td>\n",
       "      <td>0.50</td>\n",
       "      <td>...</td>\n",
       "      <td>0.17</td>\n",
       "      <td>0.67</td>\n",
       "      <td>0.67</td>\n",
       "      <td>0.17</td>\n",
       "      <td>0.33</td>\n",
       "      <td>0.67</td>\n",
       "      <td>0.33</td>\n",
       "      <td>0.17</td>\n",
       "      <td>0.33</td>\n",
       "      <td>0.33</td>\n",
       "    </tr>\n",
       "  </tbody>\n",
       "</table>\n",
       "<p>5 rows × 621 columns</p>\n",
       "</div>"
      ],
      "text/plain": [
       "       id  Moons  wrythm_Feature_1  wrythm_Feature_2  wrythm_Feature_3  \\\n",
       "0   58950      0              0.83              0.33              0.33   \n",
       "1   72918      0              0.17              0.50              0.50   \n",
       "2   99888      0              0.00              0.67              0.33   \n",
       "3  205230      0              0.00              0.67              0.50   \n",
       "4  121182      0              0.17              0.33              0.17   \n",
       "\n",
       "   wrythm_Feature_4  wrythm_Feature_5  wrythm_Feature_6  wrythm_Feature_7  \\\n",
       "0              0.67              0.33              0.00              0.33   \n",
       "1              0.17              0.67              0.50              0.50   \n",
       "2              0.83              0.67              0.00              1.00   \n",
       "3              0.67              0.67              0.50              0.50   \n",
       "4              0.50              1.00              0.33              0.67   \n",
       "\n",
       "   wrythm_Feature_8  ...  3b1-signal_Feature_46  3b1-signal_Feature_47  \\\n",
       "0              0.33  ...                   0.33                   0.67   \n",
       "1              0.50  ...                   0.50                   0.33   \n",
       "2              0.33  ...                   0.00                   0.50   \n",
       "3              0.67  ...                   0.50                   0.50   \n",
       "4              0.50  ...                   0.17                   0.67   \n",
       "\n",
       "   3b1-signal_Feature_48  3b1-signal_Feature_49  3b1-signal_Feature_50  \\\n",
       "0                   0.33                   0.50                   0.83   \n",
       "1                   0.00                   0.00                   0.67   \n",
       "2                   0.33                   0.50                   0.67   \n",
       "3                   0.67                   0.83                   0.17   \n",
       "4                   0.67                   0.17                   0.33   \n",
       "\n",
       "   3b1-signal_Feature_51  target_w  target_r  target_g  target_b  \n",
       "0                   0.17      0.50      0.33      0.50      0.33  \n",
       "1                   0.67      0.67      0.33      0.50      0.67  \n",
       "2                   0.67      0.67      0.67      0.67      0.83  \n",
       "3                   0.83      0.33      0.50      0.67      0.50  \n",
       "4                   0.67      0.33      0.17      0.33      0.33  \n",
       "\n",
       "[5 rows x 621 columns]"
      ]
     },
     "metadata": {},
     "output_type": "display_data"
    },
    {
     "data": {
      "text/html": [
       "<div>\n",
       "<style scoped>\n",
       "    .dataframe tbody tr th:only-of-type {\n",
       "        vertical-align: middle;\n",
       "    }\n",
       "\n",
       "    .dataframe tbody tr th {\n",
       "        vertical-align: top;\n",
       "    }\n",
       "\n",
       "    .dataframe thead th {\n",
       "        text-align: right;\n",
       "    }\n",
       "</style>\n",
       "<table border=\"1\" class=\"dataframe\">\n",
       "  <thead>\n",
       "    <tr style=\"text-align: right;\">\n",
       "      <th></th>\n",
       "      <th>id</th>\n",
       "      <th>Moons</th>\n",
       "      <th>wrythm_Feature_1</th>\n",
       "      <th>wrythm_Feature_2</th>\n",
       "      <th>wrythm_Feature_3</th>\n",
       "      <th>wrythm_Feature_4</th>\n",
       "      <th>wrythm_Feature_5</th>\n",
       "      <th>wrythm_Feature_6</th>\n",
       "      <th>wrythm_Feature_7</th>\n",
       "      <th>wrythm_Feature_8</th>\n",
       "      <th>...</th>\n",
       "      <th>3b1-signal_Feature_42</th>\n",
       "      <th>3b1-signal_Feature_43</th>\n",
       "      <th>3b1-signal_Feature_44</th>\n",
       "      <th>3b1-signal_Feature_45</th>\n",
       "      <th>3b1-signal_Feature_46</th>\n",
       "      <th>3b1-signal_Feature_47</th>\n",
       "      <th>3b1-signal_Feature_48</th>\n",
       "      <th>3b1-signal_Feature_49</th>\n",
       "      <th>3b1-signal_Feature_50</th>\n",
       "      <th>3b1-signal_Feature_51</th>\n",
       "    </tr>\n",
       "  </thead>\n",
       "  <tbody>\n",
       "    <tr>\n",
       "      <th>0</th>\n",
       "      <td>244649</td>\n",
       "      <td>362</td>\n",
       "      <td>0.67</td>\n",
       "      <td>0.33</td>\n",
       "      <td>1.00</td>\n",
       "      <td>0.67</td>\n",
       "      <td>0.67</td>\n",
       "      <td>0.83</td>\n",
       "      <td>0.33</td>\n",
       "      <td>0.50</td>\n",
       "      <td>...</td>\n",
       "      <td>0.17</td>\n",
       "      <td>0.50</td>\n",
       "      <td>0.33</td>\n",
       "      <td>0.67</td>\n",
       "      <td>0.33</td>\n",
       "      <td>1.00</td>\n",
       "      <td>0.33</td>\n",
       "      <td>0.33</td>\n",
       "      <td>1.00</td>\n",
       "      <td>0.33</td>\n",
       "    </tr>\n",
       "    <tr>\n",
       "      <th>1</th>\n",
       "      <td>126506</td>\n",
       "      <td>362</td>\n",
       "      <td>0.67</td>\n",
       "      <td>0.33</td>\n",
       "      <td>1.00</td>\n",
       "      <td>0.83</td>\n",
       "      <td>0.33</td>\n",
       "      <td>0.33</td>\n",
       "      <td>0.17</td>\n",
       "      <td>0.67</td>\n",
       "      <td>...</td>\n",
       "      <td>0.00</td>\n",
       "      <td>0.67</td>\n",
       "      <td>0.83</td>\n",
       "      <td>0.67</td>\n",
       "      <td>0.50</td>\n",
       "      <td>0.83</td>\n",
       "      <td>0.33</td>\n",
       "      <td>0.50</td>\n",
       "      <td>0.83</td>\n",
       "      <td>0.33</td>\n",
       "    </tr>\n",
       "    <tr>\n",
       "      <th>2</th>\n",
       "      <td>87368</td>\n",
       "      <td>362</td>\n",
       "      <td>0.67</td>\n",
       "      <td>0.67</td>\n",
       "      <td>0.67</td>\n",
       "      <td>0.83</td>\n",
       "      <td>0.83</td>\n",
       "      <td>0.67</td>\n",
       "      <td>0.83</td>\n",
       "      <td>0.83</td>\n",
       "      <td>...</td>\n",
       "      <td>0.50</td>\n",
       "      <td>0.33</td>\n",
       "      <td>0.17</td>\n",
       "      <td>0.50</td>\n",
       "      <td>0.33</td>\n",
       "      <td>0.33</td>\n",
       "      <td>0.67</td>\n",
       "      <td>0.17</td>\n",
       "      <td>0.33</td>\n",
       "      <td>0.50</td>\n",
       "    </tr>\n",
       "    <tr>\n",
       "      <th>3</th>\n",
       "      <td>185658</td>\n",
       "      <td>362</td>\n",
       "      <td>0.50</td>\n",
       "      <td>0.17</td>\n",
       "      <td>0.67</td>\n",
       "      <td>0.50</td>\n",
       "      <td>0.50</td>\n",
       "      <td>0.17</td>\n",
       "      <td>0.83</td>\n",
       "      <td>0.50</td>\n",
       "      <td>...</td>\n",
       "      <td>0.50</td>\n",
       "      <td>0.17</td>\n",
       "      <td>0.33</td>\n",
       "      <td>0.33</td>\n",
       "      <td>0.67</td>\n",
       "      <td>0.50</td>\n",
       "      <td>0.83</td>\n",
       "      <td>0.17</td>\n",
       "      <td>0.33</td>\n",
       "      <td>0.33</td>\n",
       "    </tr>\n",
       "    <tr>\n",
       "      <th>4</th>\n",
       "      <td>215543</td>\n",
       "      <td>362</td>\n",
       "      <td>0.17</td>\n",
       "      <td>1.00</td>\n",
       "      <td>0.17</td>\n",
       "      <td>0.00</td>\n",
       "      <td>0.50</td>\n",
       "      <td>0.17</td>\n",
       "      <td>1.00</td>\n",
       "      <td>0.33</td>\n",
       "      <td>...</td>\n",
       "      <td>0.50</td>\n",
       "      <td>0.50</td>\n",
       "      <td>0.50</td>\n",
       "      <td>0.33</td>\n",
       "      <td>0.50</td>\n",
       "      <td>0.50</td>\n",
       "      <td>1.00</td>\n",
       "      <td>0.83</td>\n",
       "      <td>0.50</td>\n",
       "      <td>0.83</td>\n",
       "    </tr>\n",
       "  </tbody>\n",
       "</table>\n",
       "<p>5 rows × 617 columns</p>\n",
       "</div>"
      ],
      "text/plain": [
       "       id  Moons  wrythm_Feature_1  wrythm_Feature_2  wrythm_Feature_3  \\\n",
       "0  244649    362              0.67              0.33              1.00   \n",
       "1  126506    362              0.67              0.33              1.00   \n",
       "2   87368    362              0.67              0.67              0.67   \n",
       "3  185658    362              0.50              0.17              0.67   \n",
       "4  215543    362              0.17              1.00              0.17   \n",
       "\n",
       "   wrythm_Feature_4  wrythm_Feature_5  wrythm_Feature_6  wrythm_Feature_7  \\\n",
       "0              0.67              0.67              0.83              0.33   \n",
       "1              0.83              0.33              0.33              0.17   \n",
       "2              0.83              0.83              0.67              0.83   \n",
       "3              0.50              0.50              0.17              0.83   \n",
       "4              0.00              0.50              0.17              1.00   \n",
       "\n",
       "   wrythm_Feature_8  ...  3b1-signal_Feature_42  3b1-signal_Feature_43  \\\n",
       "0              0.50  ...                   0.17                   0.50   \n",
       "1              0.67  ...                   0.00                   0.67   \n",
       "2              0.83  ...                   0.50                   0.33   \n",
       "3              0.50  ...                   0.50                   0.17   \n",
       "4              0.33  ...                   0.50                   0.50   \n",
       "\n",
       "   3b1-signal_Feature_44  3b1-signal_Feature_45  3b1-signal_Feature_46  \\\n",
       "0                   0.33                   0.67                   0.33   \n",
       "1                   0.83                   0.67                   0.50   \n",
       "2                   0.17                   0.50                   0.33   \n",
       "3                   0.33                   0.33                   0.67   \n",
       "4                   0.50                   0.33                   0.50   \n",
       "\n",
       "   3b1-signal_Feature_47  3b1-signal_Feature_48  3b1-signal_Feature_49  \\\n",
       "0                   1.00                   0.33                   0.33   \n",
       "1                   0.83                   0.33                   0.50   \n",
       "2                   0.33                   0.67                   0.17   \n",
       "3                   0.50                   0.83                   0.17   \n",
       "4                   0.50                   1.00                   0.83   \n",
       "\n",
       "   3b1-signal_Feature_50  3b1-signal_Feature_51  \n",
       "0                   1.00                   0.33  \n",
       "1                   0.83                   0.33  \n",
       "2                   0.33                   0.50  \n",
       "3                   0.33                   0.33  \n",
       "4                   0.50                   0.83  \n",
       "\n",
       "[5 rows x 617 columns]"
      ]
     },
     "metadata": {},
     "output_type": "display_data"
    }
   ],
   "source": [
    "display(train_data.head())\n",
    "display(test_data.head())"
   ]
  },
  {
   "cell_type": "markdown",
   "metadata": {
    "id": "SiXkj9LMSniZ"
   },
   "source": [
    "# Set features"
   ]
  },
  {
   "cell_type": "code",
   "execution_count": null,
   "metadata": {
    "colab": {
     "base_uri": "https://localhost:8080/"
    },
    "id": "X8lhzXniMIKV",
    "outputId": "cadac89a-c7bb-41a4-c197-2b03eee04a49"
   },
   "outputs": [],
   "source": [
    "# Feature columns\n",
    "features = train.columns[train.columns.str.startswith('Feature')]\n",
    "features"
   ]
  },
  {
   "cell_type": "markdown",
   "metadata": {
    "id": "OXIw4yr2SqQD"
   },
   "source": [
    "# Targets"
   ]
  },
  {
   "cell_type": "code",
   "execution_count": null,
   "metadata": {
    "colab": {
     "base_uri": "https://localhost:8080/"
    },
    "id": "p3HOqPyvOITY",
    "outputId": "5ebb5642-c8cf-47dd-d1df-1d4a6330134c"
   },
   "outputs": [],
   "source": [
    "# Targets columns\n",
    "targets = train.columns[train.columns.str.startswith('target')]\n",
    "targets"
   ]
  },
  {
   "cell_type": "markdown",
   "metadata": {
    "id": "4SkGS1QlSwXV"
   },
   "source": [
    "# Observations per Moon"
   ]
  },
  {
   "cell_type": "code",
   "execution_count": null,
   "metadata": {
    "colab": {
     "base_uri": "https://localhost:8080/",
     "height": 643
    },
    "id": "otqzoj9WMVcG",
    "outputId": "968442b4-493e-46d2-8f38-6168cb56a030"
   },
   "outputs": [],
   "source": [
    "plt.style.use('seaborn')\n",
    "moonCount = Counter()\n",
    "for moon in train['Moons']:\n",
    "    moonCount[moon] += 1\n",
    "moonCount = pd.DataFrame.from_dict(moonCount, orient='index', columns=['Observations'])\n",
    "moonCount.plot(legend=None)\n",
    "plt.xlabel('Moon')\n",
    "plt.ylabel('Observations')\n",
    "plt.title('Observations by Moon')\n",
    "moonCount.describe()"
   ]
  },
  {
   "cell_type": "code",
   "execution_count": null,
   "metadata": {
    "colab": {
     "base_uri": "https://localhost:8080/",
     "height": 304
    },
    "id": "v2G5nHwvNMW5",
    "outputId": "a1cd370f-02ce-4311-fa4a-64c12d926a70"
   },
   "outputs": [],
   "source": [
    "train.describe()"
   ]
  },
  {
   "cell_type": "markdown",
   "metadata": {
    "id": "tZ1SL1MlS3_K"
   },
   "source": [
    "# Targets distribution"
   ]
  },
  {
   "cell_type": "code",
   "execution_count": null,
   "metadata": {
    "colab": {
     "base_uri": "https://localhost:8080/",
     "height": 284
    },
    "id": "0DSMYyV5NPqQ",
    "outputId": "6c0f7ab4-0145-4be0-dab8-283b9d7c0534"
   },
   "outputs": [],
   "source": [
    "# Target columns that are supposed to represent different time horizons\n",
    "train[targets].describe()"
   ]
  },
  {
   "cell_type": "code",
   "execution_count": null,
   "metadata": {
    "colab": {
     "base_uri": "https://localhost:8080/",
     "height": 195
    },
    "id": "4J1uwKJKNTvi",
    "outputId": "5f986305-ecfa-4d2c-d1e0-d51ac4b64cdc"
   },
   "outputs": [],
   "source": [
    "# Number of observations per target value\n",
    "train[targets].apply(lambda x: x.value_counts())"
   ]
  },
  {
   "cell_type": "code",
   "execution_count": null,
   "metadata": {
    "colab": {
     "base_uri": "https://localhost:8080/",
     "height": 497
    },
    "id": "WJjf3Hc4NWDo",
    "outputId": "b402ed8f-9ef5-4a8a-f811-b909d404d0dc"
   },
   "outputs": [],
   "source": [
    "# Identical Distribution of target values\n",
    "sns.distplot(train['target_r'], hist=True, kde=True, bins=15)\n",
    "sns.distplot(train['target_g'], hist=True, kde=True, bins=15)\n",
    "sns.distplot(train['target_b'], hist=True, kde=True, bins=15)\n",
    "plt.xlabel('Target Value')\n",
    "plt.ylabel('Density')\n",
    "plt.title('Distribution of Targets')\n",
    "plt.show()"
   ]
  },
  {
   "cell_type": "markdown",
   "metadata": {
    "id": "fwzKNrO5TCmt"
   },
   "source": [
    "# Train / Test objects info"
   ]
  },
  {
   "cell_type": "code",
   "execution_count": null,
   "metadata": {
    "colab": {
     "base_uri": "https://localhost:8080/"
    },
    "id": "FwX16rieNWIt",
    "outputId": "e9302124-b056-4108-d45c-b258070b077b"
   },
   "outputs": [],
   "source": [
    "train.info()"
   ]
  },
  {
   "cell_type": "code",
   "execution_count": null,
   "metadata": {
    "colab": {
     "base_uri": "https://localhost:8080/"
    },
    "id": "C7jEPgWJNWLR",
    "outputId": "2ff2a2d6-36ec-4f9b-961d-b0a71eb7a8a7"
   },
   "outputs": [],
   "source": [
    "test_data.info()"
   ]
  },
  {
   "cell_type": "markdown",
   "metadata": {
    "id": "p2u3RNTpTLwn"
   },
   "source": [
    "# Spearman Correlation Matrix"
   ]
  },
  {
   "cell_type": "code",
   "execution_count": null,
   "metadata": {
    "colab": {
     "base_uri": "https://localhost:8080/",
     "height": 637
    },
    "id": "lxUpVSbWKuqb",
    "outputId": "22e30a2a-2c21-47f7-b46c-2f9cd609a1f4"
   },
   "outputs": [],
   "source": [
    "#Using Spearman Correlation\n",
    "plt.figure(figsize=(12,10))\n",
    "cor = train.corr(method = 'spearman')\n",
    "sns.heatmap(cor, annot=False, cmap=plt.cm.Reds)\n",
    "plt.show()"
   ]
  },
  {
   "cell_type": "code",
   "execution_count": null,
   "metadata": {
    "colab": {
     "base_uri": "https://localhost:8080/",
     "height": 637
    },
    "id": "DrSmoLuTTQna",
    "outputId": "0827f294-f37c-4ef1-bd08-0228725587da"
   },
   "outputs": [],
   "source": [
    "#Using Spearman Correlation\n",
    "plt.figure(figsize=(12,10))\n",
    "cor = test_data.corr(method = 'spearman')\n",
    "sns.heatmap(cor, annot=False, cmap=plt.cm.Reds)\n",
    "plt.show()"
   ]
  },
  {
   "cell_type": "markdown",
   "metadata": {
    "id": "5s7Zz1yKTgcT"
   },
   "source": [
    "# Feature Correlations"
   ]
  },
  {
   "cell_type": "code",
   "execution_count": null,
   "metadata": {
    "id": "Fz6sy21IMqyU"
   },
   "outputs": [],
   "source": [
    "feature_corrs = train[features].corr()"
   ]
  },
  {
   "cell_type": "code",
   "execution_count": null,
   "metadata": {
    "colab": {
     "base_uri": "https://localhost:8080/"
    },
    "id": "WHz_YeOzMtnh",
    "outputId": "8667efe6-75c8-46c8-b435-c0a371d9f411"
   },
   "outputs": [],
   "source": [
    "feature_corrs.stack().head()"
   ]
  },
  {
   "cell_type": "code",
   "execution_count": null,
   "metadata": {
    "colab": {
     "base_uri": "https://localhost:8080/"
    },
    "id": "4yC7z2b_MvbH",
    "outputId": "35e5d701-ded7-4982-e9ab-11824e4ad0a4"
   },
   "outputs": [],
   "source": [
    "tdf = feature_corrs.stack()\n",
    "tdf = tdf[tdf.index.get_level_values(0) < tdf.index.get_level_values(1)]\n",
    "tdf.sort_values()"
   ]
  },
  {
   "cell_type": "code",
   "execution_count": null,
   "metadata": {
    "id": "JV1EOs_bTlof"
   },
   "outputs": [],
   "source": [
    "moons = train.Moons"
   ]
  },
  {
   "cell_type": "code",
   "execution_count": null,
   "metadata": {
    "id": "s3nGHT4pMy18"
   },
   "outputs": [],
   "source": [
    "df1 = train[moons<=moons.median()]\n",
    "df2 = train[moons>moons.median()]"
   ]
  },
  {
   "cell_type": "code",
   "execution_count": null,
   "metadata": {
    "id": "3GpYLiJlM0-J"
   },
   "outputs": [],
   "source": [
    "corr1 = df1[features].corr().unstack()\n",
    "corr1 = corr1[corr1.index.get_level_values(0) < corr1.index.get_level_values(1)]"
   ]
  },
  {
   "cell_type": "code",
   "execution_count": null,
   "metadata": {
    "id": "W-MYapG7M1A1"
   },
   "outputs": [],
   "source": [
    "corr2 = df2[features].corr().unstack()\n",
    "corr2 = corr2[corr2.index.get_level_values(0) < corr2.index.get_level_values(1)]"
   ]
  },
  {
   "cell_type": "code",
   "execution_count": null,
   "metadata": {
    "colab": {
     "base_uri": "https://localhost:8080/",
     "height": 402
    },
    "id": "NBoEFW6UM1Ey",
    "outputId": "f1efd000-53dc-42be-d4d1-936584b768c4"
   },
   "outputs": [],
   "source": [
    "tdf = pd.DataFrame({\n",
    "    \"corr1\": corr1,\n",
    "    \"corr2\": corr2,\n",
    "})\n",
    "tdf[\"corr_diff\"] = tdf.corr2 - tdf.corr1\n",
    "tdf.sort_values(by=\"corr_diff\")"
   ]
  },
  {
   "cell_type": "markdown",
   "metadata": {
    "id": "w-mCc6iDTsLH"
   },
   "source": [
    "# Feature Correlation over time (Moons)"
   ]
  },
  {
   "cell_type": "code",
   "execution_count": null,
   "metadata": {
    "colab": {
     "base_uri": "https://localhost:8080/",
     "height": 431
    },
    "id": "ZPvzmWGYM1Nc",
    "outputId": "3ba1aaeb-334a-47dc-9af9-92b46c0379c3"
   },
   "outputs": [],
   "source": [
    "# Single features do not work consistently though\n",
    "by_moon_correlation = pd.Series({\n",
    "    moon: np.corrcoef(tdf['target_r'], tdf[\"Feature_2\"])[0,1]\n",
    "    for moon, tdf in train.groupby(moons)\n",
    "})\n",
    "by_moon_correlation.plot()"
   ]
  },
  {
   "cell_type": "code",
   "execution_count": null,
   "metadata": {
    "colab": {
     "base_uri": "https://localhost:8080/",
     "height": 364
    },
    "id": "fRXR9gxHdrPa",
    "outputId": "fd133969-0d0e-4b7c-fbcf-c4912c850af4"
   },
   "outputs": [],
   "source": [
    "# With a rolling 2 moons average you can see some trends\n",
    "by_moon_correlation.rolling(2).mean().plot()"
   ]
  },
  {
   "cell_type": "markdown",
   "metadata": {
    "id": "7i4dXmUBa6ba"
   },
   "source": [
    "# About\n",
    "\n",
    "Last updated: 2021-02-23\n",
    "\n",
    "Created by: [Jeremy Berros](https://github.com/jberros)\n",
    "\n",
    "Greatly inspired by the work from: [Jon Taylor](https://github.com/jonrtaylor)"
   ]
  }
 ],
 "metadata": {
  "colab": {
   "collapsed_sections": [],
   "name": "Datacrunch_EDA.ipynb",
   "provenance": []
  },
  "kernelspec": {
   "display_name": "Python 3 (ipykernel)",
   "language": "python",
   "name": "python3"
  },
  "language_info": {
   "codemirror_mode": {
    "name": "ipython",
    "version": 3
   },
   "file_extension": ".py",
   "mimetype": "text/x-python",
   "name": "python",
   "nbconvert_exporter": "python",
   "pygments_lexer": "ipython3",
   "version": "3.9.6"
  },
  "vscode": {
   "interpreter": {
    "hash": "089b01a02bffe9aaebf7c1d1c15dfcabf0b6eb8680835f8b4303bc7c7964f23e"
   }
  }
 },
 "nbformat": 4,
 "nbformat_minor": 4
}
