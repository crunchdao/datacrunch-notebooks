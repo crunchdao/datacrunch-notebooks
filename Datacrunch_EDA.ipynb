{
  "nbformat": 4,
  "nbformat_minor": 0,
  "metadata": {
    "colab": {
      "name": "Datacrunch_EDA.ipynb",
      "provenance": [],
      "collapsed_sections": []
    },
    "kernelspec": {
      "name": "python3",
      "display_name": "Python 3"
    }
  },
  "cells": [
    {
      "cell_type": "markdown",
      "metadata": {
        "id": "MlOO1FiPSeGC"
      },
      "source": [
        "# Import Libraries"
      ]
    },
    {
      "cell_type": "code",
      "metadata": {
        "id": "lF2vmbIpFa1L"
      },
      "source": [
        "# Lib & Dependencies\r\n",
        "import pandas as pd\r\n",
        "import numpy as np\r\n",
        "\r\n",
        "import matplotlib.pyplot as plt\r\n",
        "import seaborn as sns\r\n",
        "\r\n",
        "from collections import Counter"
      ],
      "execution_count": null,
      "outputs": []
    },
    {
      "cell_type": "markdown",
      "metadata": {
        "id": "kR5PXochSiGa"
      },
      "source": [
        "# Load data"
      ]
    },
    {
      "cell_type": "code",
      "metadata": {
        "id": "7uNfyX3AFjCI"
      },
      "source": [
        "train_datalink_X = 'https://tournament.datacrunch.com/data/X_train.csv'\r\n",
        "train_datalink_y = 'https://tournament.datacrunch.com/data/y_train.csv'\r\n",
        "hackathon_data_link = 'https://tournament.datacrunch.com/data/X_test.csv'"
      ],
      "execution_count": null,
      "outputs": []
    },
    {
      "cell_type": "code",
      "metadata": {
        "id": "CrHm3uYAFat4"
      },
      "source": [
        "train_data = pd.read_csv(train_datalink_X)\r\n",
        "test_data = pd.read_csv(hackathon_data_link)\r\n",
        "train_targets = pd.read_csv(train_datalink_y)"
      ],
      "execution_count": null,
      "outputs": []
    },
    {
      "cell_type": "code",
      "metadata": {
        "id": "HFUCQugROCBg"
      },
      "source": [
        "train = train_data.merge(train_targets, left_index=True, right_index=True, how='inner')"
      ],
      "execution_count": null,
      "outputs": []
    },
    {
      "cell_type": "code",
      "metadata": {
        "colab": {
          "base_uri": "https://localhost:8080/",
          "height": 215
        },
        "id": "8aprBdSuFakX",
        "outputId": "fc1d4390-da78-44cb-a30a-10ef9095a546"
      },
      "source": [
        "train.head()"
      ],
      "execution_count": null,
      "outputs": [
        {
          "output_type": "execute_result",
          "data": {
            "text/html": [
              "<div>\n",
              "<style scoped>\n",
              "    .dataframe tbody tr th:only-of-type {\n",
              "        vertical-align: middle;\n",
              "    }\n",
              "\n",
              "    .dataframe tbody tr th {\n",
              "        vertical-align: top;\n",
              "    }\n",
              "\n",
              "    .dataframe thead th {\n",
              "        text-align: right;\n",
              "    }\n",
              "</style>\n",
              "<table border=\"1\" class=\"dataframe\">\n",
              "  <thead>\n",
              "    <tr style=\"text-align: right;\">\n",
              "      <th></th>\n",
              "      <th>Moons</th>\n",
              "      <th>id</th>\n",
              "      <th>Feature_1</th>\n",
              "      <th>Feature_2</th>\n",
              "      <th>Feature_3</th>\n",
              "      <th>Feature_4</th>\n",
              "      <th>Feature_5</th>\n",
              "      <th>Feature_6</th>\n",
              "      <th>Feature_7</th>\n",
              "      <th>Feature_8</th>\n",
              "      <th>Feature_9</th>\n",
              "      <th>Feature_10</th>\n",
              "      <th>Feature_11</th>\n",
              "      <th>Feature_12</th>\n",
              "      <th>Feature_13</th>\n",
              "      <th>target_r</th>\n",
              "      <th>target_g</th>\n",
              "      <th>target_b</th>\n",
              "    </tr>\n",
              "  </thead>\n",
              "  <tbody>\n",
              "    <tr>\n",
              "      <th>0</th>\n",
              "      <td>0</td>\n",
              "      <td>0x5c5369f3e1687b61</td>\n",
              "      <td>0.50</td>\n",
              "      <td>1.0</td>\n",
              "      <td>0.75</td>\n",
              "      <td>0.0</td>\n",
              "      <td>0.0</td>\n",
              "      <td>0.0</td>\n",
              "      <td>0.0</td>\n",
              "      <td>0.0</td>\n",
              "      <td>0.0</td>\n",
              "      <td>0.0</td>\n",
              "      <td>0.00</td>\n",
              "      <td>0.00</td>\n",
              "      <td>0.0</td>\n",
              "      <td>0.75</td>\n",
              "      <td>1.00</td>\n",
              "      <td>0.0</td>\n",
              "    </tr>\n",
              "    <tr>\n",
              "      <th>1</th>\n",
              "      <td>0</td>\n",
              "      <td>0x3874689d0b4888b8</td>\n",
              "      <td>0.50</td>\n",
              "      <td>1.0</td>\n",
              "      <td>0.75</td>\n",
              "      <td>0.0</td>\n",
              "      <td>0.0</td>\n",
              "      <td>0.0</td>\n",
              "      <td>0.0</td>\n",
              "      <td>0.0</td>\n",
              "      <td>0.0</td>\n",
              "      <td>0.0</td>\n",
              "      <td>0.00</td>\n",
              "      <td>0.00</td>\n",
              "      <td>0.0</td>\n",
              "      <td>0.75</td>\n",
              "      <td>0.50</td>\n",
              "      <td>0.0</td>\n",
              "    </tr>\n",
              "    <tr>\n",
              "      <th>2</th>\n",
              "      <td>0</td>\n",
              "      <td>0x8a3fda97cd9219c8</td>\n",
              "      <td>0.75</td>\n",
              "      <td>1.0</td>\n",
              "      <td>0.75</td>\n",
              "      <td>0.0</td>\n",
              "      <td>0.0</td>\n",
              "      <td>0.0</td>\n",
              "      <td>0.0</td>\n",
              "      <td>0.5</td>\n",
              "      <td>0.5</td>\n",
              "      <td>1.0</td>\n",
              "      <td>0.75</td>\n",
              "      <td>0.75</td>\n",
              "      <td>1.0</td>\n",
              "      <td>0.50</td>\n",
              "      <td>1.00</td>\n",
              "      <td>0.5</td>\n",
              "    </tr>\n",
              "    <tr>\n",
              "      <th>3</th>\n",
              "      <td>0</td>\n",
              "      <td>0x6be36f219426c022</td>\n",
              "      <td>0.50</td>\n",
              "      <td>1.0</td>\n",
              "      <td>0.75</td>\n",
              "      <td>0.0</td>\n",
              "      <td>0.0</td>\n",
              "      <td>0.0</td>\n",
              "      <td>0.0</td>\n",
              "      <td>0.0</td>\n",
              "      <td>0.0</td>\n",
              "      <td>0.5</td>\n",
              "      <td>0.50</td>\n",
              "      <td>0.75</td>\n",
              "      <td>0.5</td>\n",
              "      <td>0.25</td>\n",
              "      <td>0.00</td>\n",
              "      <td>0.0</td>\n",
              "    </tr>\n",
              "    <tr>\n",
              "      <th>4</th>\n",
              "      <td>0</td>\n",
              "      <td>0xd4584a6f7e1f2b6a</td>\n",
              "      <td>0.75</td>\n",
              "      <td>1.0</td>\n",
              "      <td>0.75</td>\n",
              "      <td>0.0</td>\n",
              "      <td>0.0</td>\n",
              "      <td>0.0</td>\n",
              "      <td>0.0</td>\n",
              "      <td>0.0</td>\n",
              "      <td>0.0</td>\n",
              "      <td>0.0</td>\n",
              "      <td>0.00</td>\n",
              "      <td>0.00</td>\n",
              "      <td>0.0</td>\n",
              "      <td>0.75</td>\n",
              "      <td>0.75</td>\n",
              "      <td>1.0</td>\n",
              "    </tr>\n",
              "  </tbody>\n",
              "</table>\n",
              "</div>"
            ],
            "text/plain": [
              "   Moons                  id  Feature_1  ...  target_r  target_g  target_b\n",
              "0      0  0x5c5369f3e1687b61       0.50  ...      0.75      1.00       0.0\n",
              "1      0  0x3874689d0b4888b8       0.50  ...      0.75      0.50       0.0\n",
              "2      0  0x8a3fda97cd9219c8       0.75  ...      0.50      1.00       0.5\n",
              "3      0  0x6be36f219426c022       0.50  ...      0.25      0.00       0.0\n",
              "4      0  0xd4584a6f7e1f2b6a       0.75  ...      0.75      0.75       1.0\n",
              "\n",
              "[5 rows x 18 columns]"
            ]
          },
          "metadata": {
            "tags": []
          },
          "execution_count": 10
        }
      ]
    },
    {
      "cell_type": "code",
      "metadata": {
        "colab": {
          "base_uri": "https://localhost:8080/",
          "height": 195
        },
        "id": "ruCBxNygF4hd",
        "outputId": "6ed9a423-75e0-4e23-dae8-5261f80fd6a9"
      },
      "source": [
        "test_data.head()"
      ],
      "execution_count": null,
      "outputs": [
        {
          "output_type": "execute_result",
          "data": {
            "text/html": [
              "<div>\n",
              "<style scoped>\n",
              "    .dataframe tbody tr th:only-of-type {\n",
              "        vertical-align: middle;\n",
              "    }\n",
              "\n",
              "    .dataframe tbody tr th {\n",
              "        vertical-align: top;\n",
              "    }\n",
              "\n",
              "    .dataframe thead th {\n",
              "        text-align: right;\n",
              "    }\n",
              "</style>\n",
              "<table border=\"1\" class=\"dataframe\">\n",
              "  <thead>\n",
              "    <tr style=\"text-align: right;\">\n",
              "      <th></th>\n",
              "      <th>Moons</th>\n",
              "      <th>id</th>\n",
              "      <th>Feature_1</th>\n",
              "      <th>Feature_2</th>\n",
              "      <th>Feature_3</th>\n",
              "      <th>Feature_4</th>\n",
              "      <th>Feature_5</th>\n",
              "      <th>Feature_6</th>\n",
              "      <th>Feature_7</th>\n",
              "      <th>Feature_8</th>\n",
              "      <th>Feature_9</th>\n",
              "      <th>Feature_10</th>\n",
              "      <th>Feature_11</th>\n",
              "      <th>Feature_12</th>\n",
              "      <th>Feature_13</th>\n",
              "    </tr>\n",
              "  </thead>\n",
              "  <tbody>\n",
              "    <tr>\n",
              "      <th>0</th>\n",
              "      <td>0</td>\n",
              "      <td>0x33aa5dd041631fa0</td>\n",
              "      <td>0.25</td>\n",
              "      <td>0.00</td>\n",
              "      <td>0.0</td>\n",
              "      <td>0.0</td>\n",
              "      <td>0.0</td>\n",
              "      <td>0.0</td>\n",
              "      <td>0.0</td>\n",
              "      <td>0.00</td>\n",
              "      <td>0.00</td>\n",
              "      <td>0.00</td>\n",
              "      <td>0.00</td>\n",
              "      <td>0.00</td>\n",
              "      <td>0.00</td>\n",
              "    </tr>\n",
              "    <tr>\n",
              "      <th>1</th>\n",
              "      <td>0</td>\n",
              "      <td>0xbd9da03cd0267e56</td>\n",
              "      <td>0.25</td>\n",
              "      <td>0.75</td>\n",
              "      <td>1.0</td>\n",
              "      <td>0.0</td>\n",
              "      <td>0.0</td>\n",
              "      <td>0.0</td>\n",
              "      <td>0.0</td>\n",
              "      <td>0.25</td>\n",
              "      <td>0.25</td>\n",
              "      <td>0.75</td>\n",
              "      <td>0.50</td>\n",
              "      <td>0.50</td>\n",
              "      <td>0.75</td>\n",
              "    </tr>\n",
              "    <tr>\n",
              "      <th>2</th>\n",
              "      <td>0</td>\n",
              "      <td>0xb95b58e7e25a02cf</td>\n",
              "      <td>0.00</td>\n",
              "      <td>0.25</td>\n",
              "      <td>0.0</td>\n",
              "      <td>0.0</td>\n",
              "      <td>0.0</td>\n",
              "      <td>0.0</td>\n",
              "      <td>0.0</td>\n",
              "      <td>0.75</td>\n",
              "      <td>0.75</td>\n",
              "      <td>0.75</td>\n",
              "      <td>1.00</td>\n",
              "      <td>0.50</td>\n",
              "      <td>0.75</td>\n",
              "    </tr>\n",
              "    <tr>\n",
              "      <th>3</th>\n",
              "      <td>0</td>\n",
              "      <td>0xad8af9c07a5770d3</td>\n",
              "      <td>0.25</td>\n",
              "      <td>0.75</td>\n",
              "      <td>1.0</td>\n",
              "      <td>0.0</td>\n",
              "      <td>0.0</td>\n",
              "      <td>0.0</td>\n",
              "      <td>0.0</td>\n",
              "      <td>0.00</td>\n",
              "      <td>0.00</td>\n",
              "      <td>0.00</td>\n",
              "      <td>0.00</td>\n",
              "      <td>0.00</td>\n",
              "      <td>0.00</td>\n",
              "    </tr>\n",
              "    <tr>\n",
              "      <th>4</th>\n",
              "      <td>0</td>\n",
              "      <td>0xcdc024f2efb69bc5</td>\n",
              "      <td>0.25</td>\n",
              "      <td>1.00</td>\n",
              "      <td>0.0</td>\n",
              "      <td>0.0</td>\n",
              "      <td>0.0</td>\n",
              "      <td>0.0</td>\n",
              "      <td>0.0</td>\n",
              "      <td>0.00</td>\n",
              "      <td>0.00</td>\n",
              "      <td>0.50</td>\n",
              "      <td>0.25</td>\n",
              "      <td>0.25</td>\n",
              "      <td>0.50</td>\n",
              "    </tr>\n",
              "  </tbody>\n",
              "</table>\n",
              "</div>"
            ],
            "text/plain": [
              "   Moons                  id  Feature_1  ...  Feature_11  Feature_12  Feature_13\n",
              "0      0  0x33aa5dd041631fa0       0.25  ...        0.00        0.00        0.00\n",
              "1      0  0xbd9da03cd0267e56       0.25  ...        0.50        0.50        0.75\n",
              "2      0  0xb95b58e7e25a02cf       0.00  ...        1.00        0.50        0.75\n",
              "3      0  0xad8af9c07a5770d3       0.25  ...        0.00        0.00        0.00\n",
              "4      0  0xcdc024f2efb69bc5       0.25  ...        0.25        0.25        0.50\n",
              "\n",
              "[5 rows x 15 columns]"
            ]
          },
          "metadata": {
            "tags": []
          },
          "execution_count": 11
        }
      ]
    },
    {
      "cell_type": "markdown",
      "metadata": {
        "id": "SiXkj9LMSniZ"
      },
      "source": [
        "# Set features"
      ]
    },
    {
      "cell_type": "code",
      "metadata": {
        "id": "X8lhzXniMIKV",
        "colab": {
          "base_uri": "https://localhost:8080/"
        },
        "outputId": "cadac89a-c7bb-41a4-c197-2b03eee04a49"
      },
      "source": [
        "# Feature columns\n",
        "features = train.columns[train.columns.str.startswith('Feature')]\n",
        "features"
      ],
      "execution_count": null,
      "outputs": [
        {
          "output_type": "execute_result",
          "data": {
            "text/plain": [
              "Index(['Feature_1', 'Feature_2', 'Feature_3', 'Feature_4', 'Feature_5',\n",
              "       'Feature_6', 'Feature_7', 'Feature_8', 'Feature_9', 'Feature_10',\n",
              "       'Feature_11', 'Feature_12', 'Feature_13'],\n",
              "      dtype='object')"
            ]
          },
          "metadata": {
            "tags": []
          },
          "execution_count": 12
        }
      ]
    },
    {
      "cell_type": "markdown",
      "metadata": {
        "id": "OXIw4yr2SqQD"
      },
      "source": [
        "# Targets"
      ]
    },
    {
      "cell_type": "code",
      "metadata": {
        "colab": {
          "base_uri": "https://localhost:8080/"
        },
        "id": "p3HOqPyvOITY",
        "outputId": "5ebb5642-c8cf-47dd-d1df-1d4a6330134c"
      },
      "source": [
        "# Targets columns\r\n",
        "targets = train.columns[train.columns.str.startswith('target')]\r\n",
        "targets"
      ],
      "execution_count": null,
      "outputs": [
        {
          "output_type": "execute_result",
          "data": {
            "text/plain": [
              "Index(['target_r', 'target_g', 'target_b'], dtype='object')"
            ]
          },
          "metadata": {
            "tags": []
          },
          "execution_count": 13
        }
      ]
    },
    {
      "cell_type": "markdown",
      "metadata": {
        "id": "4SkGS1QlSwXV"
      },
      "source": [
        "# Observations per Moon"
      ]
    },
    {
      "cell_type": "code",
      "metadata": {
        "id": "otqzoj9WMVcG",
        "colab": {
          "base_uri": "https://localhost:8080/",
          "height": 643
        },
        "outputId": "968442b4-493e-46d2-8f38-6168cb56a030"
      },
      "source": [
        "plt.style.use('seaborn')\n",
        "moonCount = Counter()\n",
        "for moon in train['Moons']:\n",
        "    moonCount[moon] += 1\n",
        "moonCount = pd.DataFrame.from_dict(moonCount, orient='index', columns=['Observations'])\n",
        "moonCount.plot(legend=None)\n",
        "plt.xlabel('Moon')\n",
        "plt.ylabel('Observations')\n",
        "plt.title('Observations by Moon')\n",
        "moonCount.describe()"
      ],
      "execution_count": null,
      "outputs": [
        {
          "output_type": "execute_result",
          "data": {
            "text/html": [
              "<div>\n",
              "<style scoped>\n",
              "    .dataframe tbody tr th:only-of-type {\n",
              "        vertical-align: middle;\n",
              "    }\n",
              "\n",
              "    .dataframe tbody tr th {\n",
              "        vertical-align: top;\n",
              "    }\n",
              "\n",
              "    .dataframe thead th {\n",
              "        text-align: right;\n",
              "    }\n",
              "</style>\n",
              "<table border=\"1\" class=\"dataframe\">\n",
              "  <thead>\n",
              "    <tr style=\"text-align: right;\">\n",
              "      <th></th>\n",
              "      <th>Observations</th>\n",
              "    </tr>\n",
              "  </thead>\n",
              "  <tbody>\n",
              "    <tr>\n",
              "      <th>count</th>\n",
              "      <td>14.000000</td>\n",
              "    </tr>\n",
              "    <tr>\n",
              "      <th>mean</th>\n",
              "      <td>467.000000</td>\n",
              "    </tr>\n",
              "    <tr>\n",
              "      <th>std</th>\n",
              "      <td>9.607689</td>\n",
              "    </tr>\n",
              "    <tr>\n",
              "      <th>min</th>\n",
              "      <td>448.000000</td>\n",
              "    </tr>\n",
              "    <tr>\n",
              "      <th>25%</th>\n",
              "      <td>460.750000</td>\n",
              "    </tr>\n",
              "    <tr>\n",
              "      <th>50%</th>\n",
              "      <td>469.500000</td>\n",
              "    </tr>\n",
              "    <tr>\n",
              "      <th>75%</th>\n",
              "      <td>474.500000</td>\n",
              "    </tr>\n",
              "    <tr>\n",
              "      <th>max</th>\n",
              "      <td>478.000000</td>\n",
              "    </tr>\n",
              "  </tbody>\n",
              "</table>\n",
              "</div>"
            ],
            "text/plain": [
              "       Observations\n",
              "count     14.000000\n",
              "mean     467.000000\n",
              "std        9.607689\n",
              "min      448.000000\n",
              "25%      460.750000\n",
              "50%      469.500000\n",
              "75%      474.500000\n",
              "max      478.000000"
            ]
          },
          "metadata": {
            "tags": []
          },
          "execution_count": 14
        },
        {
          "output_type": "display_data",
          "data": {
            "image/png": "[encoded data removed]",
            "text/plain": [
              "<Figure size 576x396 with 1 Axes>"
            ]
          },
          "metadata": {
            "tags": []
          }
        }
      ]
    },
    {
      "cell_type": "code",
      "metadata": {
        "id": "v2G5nHwvNMW5",
        "colab": {
          "base_uri": "https://localhost:8080/",
          "height": 304
        },
        "outputId": "a1cd370f-02ce-4311-fa4a-64c12d926a70"
      },
      "source": [
        "train.describe()"
      ],
      "execution_count": null,
      "outputs": [
        {
          "output_type": "execute_result",
          "data": {
            "text/html": [
              "<div>\n",
              "<style scoped>\n",
              "    .dataframe tbody tr th:only-of-type {\n",
              "        vertical-align: middle;\n",
              "    }\n",
              "\n",
              "    .dataframe tbody tr th {\n",
              "        vertical-align: top;\n",
              "    }\n",
              "\n",
              "    .dataframe thead th {\n",
              "        text-align: right;\n",
              "    }\n",
              "</style>\n",
              "<table border=\"1\" class=\"dataframe\">\n",
              "  <thead>\n",
              "    <tr style=\"text-align: right;\">\n",
              "      <th></th>\n",
              "      <th>Moons</th>\n",
              "      <th>Feature_1</th>\n",
              "      <th>Feature_2</th>\n",
              "      <th>Feature_3</th>\n",
              "      <th>Feature_4</th>\n",
              "      <th>Feature_5</th>\n",
              "      <th>Feature_6</th>\n",
              "      <th>Feature_7</th>\n",
              "      <th>Feature_8</th>\n",
              "      <th>Feature_9</th>\n",
              "      <th>Feature_10</th>\n",
              "      <th>Feature_11</th>\n",
              "      <th>Feature_12</th>\n",
              "      <th>Feature_13</th>\n",
              "      <th>target_r</th>\n",
              "      <th>target_g</th>\n",
              "      <th>target_b</th>\n",
              "    </tr>\n",
              "  </thead>\n",
              "  <tbody>\n",
              "    <tr>\n",
              "      <th>count</th>\n",
              "      <td>6538.000000</td>\n",
              "      <td>6538.000000</td>\n",
              "      <td>6538.000000</td>\n",
              "      <td>6538.000000</td>\n",
              "      <td>6538.000000</td>\n",
              "      <td>6538.000000</td>\n",
              "      <td>6538.000000</td>\n",
              "      <td>6538.000000</td>\n",
              "      <td>6538.000000</td>\n",
              "      <td>6538.000000</td>\n",
              "      <td>6538.000000</td>\n",
              "      <td>6538.000000</td>\n",
              "      <td>6538.000000</td>\n",
              "      <td>6538.000000</td>\n",
              "      <td>6538.000000</td>\n",
              "      <td>6538.000000</td>\n",
              "      <td>6538.000000</td>\n",
              "    </tr>\n",
              "    <tr>\n",
              "      <th>mean</th>\n",
              "      <td>6.578006</td>\n",
              "      <td>0.493423</td>\n",
              "      <td>0.500000</td>\n",
              "      <td>0.490670</td>\n",
              "      <td>0.500000</td>\n",
              "      <td>0.500000</td>\n",
              "      <td>0.500000</td>\n",
              "      <td>0.500000</td>\n",
              "      <td>0.500000</td>\n",
              "      <td>0.500000</td>\n",
              "      <td>0.485852</td>\n",
              "      <td>0.486273</td>\n",
              "      <td>0.486273</td>\n",
              "      <td>0.486273</td>\n",
              "      <td>0.500000</td>\n",
              "      <td>0.500000</td>\n",
              "      <td>0.500000</td>\n",
              "    </tr>\n",
              "    <tr>\n",
              "      <th>std</th>\n",
              "      <td>4.023351</td>\n",
              "      <td>0.357847</td>\n",
              "      <td>0.353607</td>\n",
              "      <td>0.343442</td>\n",
              "      <td>0.353607</td>\n",
              "      <td>0.353607</td>\n",
              "      <td>0.353607</td>\n",
              "      <td>0.353607</td>\n",
              "      <td>0.353607</td>\n",
              "      <td>0.353607</td>\n",
              "      <td>0.367620</td>\n",
              "      <td>0.367623</td>\n",
              "      <td>0.367623</td>\n",
              "      <td>0.367623</td>\n",
              "      <td>0.353607</td>\n",
              "      <td>0.353607</td>\n",
              "      <td>0.353607</td>\n",
              "    </tr>\n",
              "    <tr>\n",
              "      <th>min</th>\n",
              "      <td>0.000000</td>\n",
              "      <td>0.000000</td>\n",
              "      <td>0.000000</td>\n",
              "      <td>0.000000</td>\n",
              "      <td>0.000000</td>\n",
              "      <td>0.000000</td>\n",
              "      <td>0.000000</td>\n",
              "      <td>0.000000</td>\n",
              "      <td>0.000000</td>\n",
              "      <td>0.000000</td>\n",
              "      <td>0.000000</td>\n",
              "      <td>0.000000</td>\n",
              "      <td>0.000000</td>\n",
              "      <td>0.000000</td>\n",
              "      <td>0.000000</td>\n",
              "      <td>0.000000</td>\n",
              "      <td>0.000000</td>\n",
              "    </tr>\n",
              "    <tr>\n",
              "      <th>25%</th>\n",
              "      <td>3.000000</td>\n",
              "      <td>0.250000</td>\n",
              "      <td>0.250000</td>\n",
              "      <td>0.250000</td>\n",
              "      <td>0.250000</td>\n",
              "      <td>0.250000</td>\n",
              "      <td>0.250000</td>\n",
              "      <td>0.250000</td>\n",
              "      <td>0.250000</td>\n",
              "      <td>0.250000</td>\n",
              "      <td>0.000000</td>\n",
              "      <td>0.000000</td>\n",
              "      <td>0.000000</td>\n",
              "      <td>0.000000</td>\n",
              "      <td>0.250000</td>\n",
              "      <td>0.250000</td>\n",
              "      <td>0.250000</td>\n",
              "    </tr>\n",
              "    <tr>\n",
              "      <th>50%</th>\n",
              "      <td>7.000000</td>\n",
              "      <td>0.500000</td>\n",
              "      <td>0.500000</td>\n",
              "      <td>0.500000</td>\n",
              "      <td>0.500000</td>\n",
              "      <td>0.500000</td>\n",
              "      <td>0.500000</td>\n",
              "      <td>0.500000</td>\n",
              "      <td>0.500000</td>\n",
              "      <td>0.500000</td>\n",
              "      <td>0.500000</td>\n",
              "      <td>0.500000</td>\n",
              "      <td>0.500000</td>\n",
              "      <td>0.500000</td>\n",
              "      <td>0.500000</td>\n",
              "      <td>0.500000</td>\n",
              "      <td>0.500000</td>\n",
              "    </tr>\n",
              "    <tr>\n",
              "      <th>75%</th>\n",
              "      <td>10.000000</td>\n",
              "      <td>0.750000</td>\n",
              "      <td>0.750000</td>\n",
              "      <td>0.750000</td>\n",
              "      <td>0.750000</td>\n",
              "      <td>0.750000</td>\n",
              "      <td>0.750000</td>\n",
              "      <td>0.750000</td>\n",
              "      <td>0.750000</td>\n",
              "      <td>0.750000</td>\n",
              "      <td>0.750000</td>\n",
              "      <td>0.750000</td>\n",
              "      <td>0.750000</td>\n",
              "      <td>0.750000</td>\n",
              "      <td>0.750000</td>\n",
              "      <td>0.750000</td>\n",
              "      <td>0.750000</td>\n",
              "    </tr>\n",
              "    <tr>\n",
              "      <th>max</th>\n",
              "      <td>13.000000</td>\n",
              "      <td>1.000000</td>\n",
              "      <td>1.000000</td>\n",
              "      <td>1.000000</td>\n",
              "      <td>1.000000</td>\n",
              "      <td>1.000000</td>\n",
              "      <td>1.000000</td>\n",
              "      <td>1.000000</td>\n",
              "      <td>1.000000</td>\n",
              "      <td>1.000000</td>\n",
              "      <td>1.000000</td>\n",
              "      <td>1.000000</td>\n",
              "      <td>1.000000</td>\n",
              "      <td>1.000000</td>\n",
              "      <td>1.000000</td>\n",
              "      <td>1.000000</td>\n",
              "      <td>1.000000</td>\n",
              "    </tr>\n",
              "  </tbody>\n",
              "</table>\n",
              "</div>"
            ],
            "text/plain": [
              "             Moons    Feature_1  ...     target_g     target_b\n",
              "count  6538.000000  6538.000000  ...  6538.000000  6538.000000\n",
              "mean      6.578006     0.493423  ...     0.500000     0.500000\n",
              "std       4.023351     0.357847  ...     0.353607     0.353607\n",
              "min       0.000000     0.000000  ...     0.000000     0.000000\n",
              "25%       3.000000     0.250000  ...     0.250000     0.250000\n",
              "50%       7.000000     0.500000  ...     0.500000     0.500000\n",
              "75%      10.000000     0.750000  ...     0.750000     0.750000\n",
              "max      13.000000     1.000000  ...     1.000000     1.000000\n",
              "\n",
              "[8 rows x 17 columns]"
            ]
          },
          "metadata": {
            "tags": []
          },
          "execution_count": 15
        }
      ]
    },
    {
      "cell_type": "markdown",
      "metadata": {
        "id": "tZ1SL1MlS3_K"
      },
      "source": [
        "# Targets distribution"
      ]
    },
    {
      "cell_type": "code",
      "metadata": {
        "id": "0DSMYyV5NPqQ",
        "colab": {
          "base_uri": "https://localhost:8080/",
          "height": 284
        },
        "outputId": "6c0f7ab4-0145-4be0-dab8-283b9d7c0534"
      },
      "source": [
        "# Target columns that are supposed to represent different time horizons\n",
        "train[targets].describe()"
      ],
      "execution_count": null,
      "outputs": [
        {
          "output_type": "execute_result",
          "data": {
            "text/html": [
              "<div>\n",
              "<style scoped>\n",
              "    .dataframe tbody tr th:only-of-type {\n",
              "        vertical-align: middle;\n",
              "    }\n",
              "\n",
              "    .dataframe tbody tr th {\n",
              "        vertical-align: top;\n",
              "    }\n",
              "\n",
              "    .dataframe thead th {\n",
              "        text-align: right;\n",
              "    }\n",
              "</style>\n",
              "<table border=\"1\" class=\"dataframe\">\n",
              "  <thead>\n",
              "    <tr style=\"text-align: right;\">\n",
              "      <th></th>\n",
              "      <th>target_r</th>\n",
              "      <th>target_g</th>\n",
              "      <th>target_b</th>\n",
              "    </tr>\n",
              "  </thead>\n",
              "  <tbody>\n",
              "    <tr>\n",
              "      <th>count</th>\n",
              "      <td>6538.000000</td>\n",
              "      <td>6538.000000</td>\n",
              "      <td>6538.000000</td>\n",
              "    </tr>\n",
              "    <tr>\n",
              "      <th>mean</th>\n",
              "      <td>0.500000</td>\n",
              "      <td>0.500000</td>\n",
              "      <td>0.500000</td>\n",
              "    </tr>\n",
              "    <tr>\n",
              "      <th>std</th>\n",
              "      <td>0.353607</td>\n",
              "      <td>0.353607</td>\n",
              "      <td>0.353607</td>\n",
              "    </tr>\n",
              "    <tr>\n",
              "      <th>min</th>\n",
              "      <td>0.000000</td>\n",
              "      <td>0.000000</td>\n",
              "      <td>0.000000</td>\n",
              "    </tr>\n",
              "    <tr>\n",
              "      <th>25%</th>\n",
              "      <td>0.250000</td>\n",
              "      <td>0.250000</td>\n",
              "      <td>0.250000</td>\n",
              "    </tr>\n",
              "    <tr>\n",
              "      <th>50%</th>\n",
              "      <td>0.500000</td>\n",
              "      <td>0.500000</td>\n",
              "      <td>0.500000</td>\n",
              "    </tr>\n",
              "    <tr>\n",
              "      <th>75%</th>\n",
              "      <td>0.750000</td>\n",
              "      <td>0.750000</td>\n",
              "      <td>0.750000</td>\n",
              "    </tr>\n",
              "    <tr>\n",
              "      <th>max</th>\n",
              "      <td>1.000000</td>\n",
              "      <td>1.000000</td>\n",
              "      <td>1.000000</td>\n",
              "    </tr>\n",
              "  </tbody>\n",
              "</table>\n",
              "</div>"
            ],
            "text/plain": [
              "          target_r     target_g     target_b\n",
              "count  6538.000000  6538.000000  6538.000000\n",
              "mean      0.500000     0.500000     0.500000\n",
              "std       0.353607     0.353607     0.353607\n",
              "min       0.000000     0.000000     0.000000\n",
              "25%       0.250000     0.250000     0.250000\n",
              "50%       0.500000     0.500000     0.500000\n",
              "75%       0.750000     0.750000     0.750000\n",
              "max       1.000000     1.000000     1.000000"
            ]
          },
          "metadata": {
            "tags": []
          },
          "execution_count": 16
        }
      ]
    },
    {
      "cell_type": "code",
      "metadata": {
        "id": "4J1uwKJKNTvi",
        "colab": {
          "base_uri": "https://localhost:8080/",
          "height": 195
        },
        "outputId": "5f986305-ecfa-4d2c-d1e0-d51ac4b64cdc"
      },
      "source": [
        "# Number of observations per target value\n",
        "train[targets].apply(lambda x: x.value_counts())"
      ],
      "execution_count": null,
      "outputs": [
        {
          "output_type": "execute_result",
          "data": {
            "text/html": [
              "<div>\n",
              "<style scoped>\n",
              "    .dataframe tbody tr th:only-of-type {\n",
              "        vertical-align: middle;\n",
              "    }\n",
              "\n",
              "    .dataframe tbody tr th {\n",
              "        vertical-align: top;\n",
              "    }\n",
              "\n",
              "    .dataframe thead th {\n",
              "        text-align: right;\n",
              "    }\n",
              "</style>\n",
              "<table border=\"1\" class=\"dataframe\">\n",
              "  <thead>\n",
              "    <tr style=\"text-align: right;\">\n",
              "      <th></th>\n",
              "      <th>target_r</th>\n",
              "      <th>target_g</th>\n",
              "      <th>target_b</th>\n",
              "    </tr>\n",
              "  </thead>\n",
              "  <tbody>\n",
              "    <tr>\n",
              "      <th>0.00</th>\n",
              "      <td>1308</td>\n",
              "      <td>1308</td>\n",
              "      <td>1308</td>\n",
              "    </tr>\n",
              "    <tr>\n",
              "      <th>0.25</th>\n",
              "      <td>1307</td>\n",
              "      <td>1307</td>\n",
              "      <td>1307</td>\n",
              "    </tr>\n",
              "    <tr>\n",
              "      <th>0.50</th>\n",
              "      <td>1308</td>\n",
              "      <td>1308</td>\n",
              "      <td>1308</td>\n",
              "    </tr>\n",
              "    <tr>\n",
              "      <th>0.75</th>\n",
              "      <td>1307</td>\n",
              "      <td>1307</td>\n",
              "      <td>1307</td>\n",
              "    </tr>\n",
              "    <tr>\n",
              "      <th>1.00</th>\n",
              "      <td>1308</td>\n",
              "      <td>1308</td>\n",
              "      <td>1308</td>\n",
              "    </tr>\n",
              "  </tbody>\n",
              "</table>\n",
              "</div>"
            ],
            "text/plain": [
              "      target_r  target_g  target_b\n",
              "0.00      1308      1308      1308\n",
              "0.25      1307      1307      1307\n",
              "0.50      1308      1308      1308\n",
              "0.75      1307      1307      1307\n",
              "1.00      1308      1308      1308"
            ]
          },
          "metadata": {
            "tags": []
          },
          "execution_count": 17
        }
      ]
    },
    {
      "cell_type": "code",
      "metadata": {
        "id": "WJjf3Hc4NWDo",
        "colab": {
          "base_uri": "https://localhost:8080/",
          "height": 497
        },
        "outputId": "b402ed8f-9ef5-4a8a-f811-b909d404d0dc"
      },
      "source": [
        "# Identical Distribution of target values\n",
        "sns.distplot(train['target_r'], hist=True, kde=True, bins=15)\n",
        "sns.distplot(train['target_g'], hist=True, kde=True, bins=15)\n",
        "sns.distplot(train['target_b'], hist=True, kde=True, bins=15)\n",
        "plt.xlabel('Target Value')\n",
        "plt.ylabel('Density')\n",
        "plt.title('Distribution of Targets')\n",
        "plt.show()"
      ],
      "execution_count": null,
      "outputs": [
        {
          "output_type": "stream",
          "text": [
            "/usr/local/lib/python3.7/dist-packages/seaborn/distributions.py:2557: FutureWarning: `distplot` is a deprecated function and will be removed in a future version. Please adapt your code to use either `displot` (a figure-level function with similar flexibility) or `histplot` (an axes-level function for histograms).\n",
            "  warnings.warn(msg, FutureWarning)\n",
            "/usr/local/lib/python3.7/dist-packages/seaborn/distributions.py:2557: FutureWarning: `distplot` is a deprecated function and will be removed in a future version. Please adapt your code to use either `displot` (a figure-level function with similar flexibility) or `histplot` (an axes-level function for histograms).\n",
            "  warnings.warn(msg, FutureWarning)\n",
            "/usr/local/lib/python3.7/dist-packages/seaborn/distributions.py:2557: FutureWarning: `distplot` is a deprecated function and will be removed in a future version. Please adapt your code to use either `displot` (a figure-level function with similar flexibility) or `histplot` (an axes-level function for histograms).\n",
            "  warnings.warn(msg, FutureWarning)\n"
          ],
          "name": "stderr"
        },
        {
          "output_type": "display_data",
          "data": {
            "image/png": "[encoded data removed]",
            "text/plain": [
              "<Figure size 576x396 with 1 Axes>"
            ]
          },
          "metadata": {
            "tags": []
          }
        }
      ]
    },
    {
      "cell_type": "markdown",
      "metadata": {
        "id": "fwzKNrO5TCmt"
      },
      "source": [
        "# Train / Test objects info"
      ]
    },
    {
      "cell_type": "code",
      "metadata": {
        "id": "FwX16rieNWIt",
        "colab": {
          "base_uri": "https://localhost:8080/"
        },
        "outputId": "e9302124-b056-4108-d45c-b258070b077b"
      },
      "source": [
        "train.info()"
      ],
      "execution_count": null,
      "outputs": [
        {
          "output_type": "stream",
          "text": [
            "<class 'pandas.core.frame.DataFrame'>\n",
            "RangeIndex: 6538 entries, 0 to 6537\n",
            "Data columns (total 18 columns):\n",
            " #   Column      Non-Null Count  Dtype  \n",
            "---  ------      --------------  -----  \n",
            " 0   Moons       6538 non-null   int64  \n",
            " 1   id          6538 non-null   object \n",
            " 2   Feature_1   6538 non-null   float64\n",
            " 3   Feature_2   6538 non-null   float64\n",
            " 4   Feature_3   6538 non-null   float64\n",
            " 5   Feature_4   6538 non-null   float64\n",
            " 6   Feature_5   6538 non-null   float64\n",
            " 7   Feature_6   6538 non-null   float64\n",
            " 8   Feature_7   6538 non-null   float64\n",
            " 9   Feature_8   6538 non-null   float64\n",
            " 10  Feature_9   6538 non-null   float64\n",
            " 11  Feature_10  6538 non-null   float64\n",
            " 12  Feature_11  6538 non-null   float64\n",
            " 13  Feature_12  6538 non-null   float64\n",
            " 14  Feature_13  6538 non-null   float64\n",
            " 15  target_r    6538 non-null   float64\n",
            " 16  target_g    6538 non-null   float64\n",
            " 17  target_b    6538 non-null   float64\n",
            "dtypes: float64(16), int64(1), object(1)\n",
            "memory usage: 919.5+ KB\n"
          ],
          "name": "stdout"
        }
      ]
    },
    {
      "cell_type": "code",
      "metadata": {
        "id": "C7jEPgWJNWLR",
        "colab": {
          "base_uri": "https://localhost:8080/"
        },
        "outputId": "2ff2a2d6-36ec-4f9b-961d-b0a71eb7a8a7"
      },
      "source": [
        "test_data.info()"
      ],
      "execution_count": null,
      "outputs": [
        {
          "output_type": "stream",
          "text": [
            "<class 'pandas.core.frame.DataFrame'>\n",
            "RangeIndex: 3436 entries, 0 to 3435\n",
            "Data columns (total 15 columns):\n",
            " #   Column      Non-Null Count  Dtype  \n",
            "---  ------      --------------  -----  \n",
            " 0   Moons       3436 non-null   int64  \n",
            " 1   id          3436 non-null   object \n",
            " 2   Feature_1   3436 non-null   float64\n",
            " 3   Feature_2   3436 non-null   float64\n",
            " 4   Feature_3   3436 non-null   float64\n",
            " 5   Feature_4   3436 non-null   float64\n",
            " 6   Feature_5   3436 non-null   float64\n",
            " 7   Feature_6   3436 non-null   float64\n",
            " 8   Feature_7   3436 non-null   float64\n",
            " 9   Feature_8   3436 non-null   float64\n",
            " 10  Feature_9   3436 non-null   float64\n",
            " 11  Feature_10  3436 non-null   float64\n",
            " 12  Feature_11  3436 non-null   float64\n",
            " 13  Feature_12  3436 non-null   float64\n",
            " 14  Feature_13  3436 non-null   float64\n",
            "dtypes: float64(13), int64(1), object(1)\n",
            "memory usage: 402.8+ KB\n"
          ],
          "name": "stdout"
        }
      ]
    },
    {
      "cell_type": "markdown",
      "metadata": {
        "id": "p2u3RNTpTLwn"
      },
      "source": [
        "# Spearman Correlation Matrix"
      ]
    },
    {
      "cell_type": "code",
      "metadata": {
        "colab": {
          "base_uri": "https://localhost:8080/",
          "height": 637
        },
        "id": "lxUpVSbWKuqb",
        "outputId": "22e30a2a-2c21-47f7-b46c-2f9cd609a1f4"
      },
      "source": [
        "#Using Spearman Correlation\r\n",
        "plt.figure(figsize=(12,10))\r\n",
        "cor = train.corr(method = 'spearman')\r\n",
        "sns.heatmap(cor, annot=False, cmap=plt.cm.Reds)\r\n",
        "plt.show()"
      ],
      "execution_count": null,
      "outputs": [
        {
          "output_type": "display_data",
          "data": {
            "image/png": "[encoded data removed]",
            "text/plain": [
              "<Figure size 864x720 with 2 Axes>"
            ]
          },
          "metadata": {
            "tags": []
          }
        }
      ]
    },
    {
      "cell_type": "code",
      "metadata": {
        "colab": {
          "base_uri": "https://localhost:8080/",
          "height": 637
        },
        "id": "DrSmoLuTTQna",
        "outputId": "0827f294-f37c-4ef1-bd08-0228725587da"
      },
      "source": [
        "#Using Spearman Correlation\r\n",
        "plt.figure(figsize=(12,10))\r\n",
        "cor = test_data.corr(method = 'spearman')\r\n",
        "sns.heatmap(cor, annot=False, cmap=plt.cm.Reds)\r\n",
        "plt.show()"
      ],
      "execution_count": null,
      "outputs": [
        {
          "output_type": "display_data",
          "data": {
            "image/png": "[encoded data removed]",
            "text/plain": [
              "<Figure size 864x720 with 2 Axes>"
            ]
          },
          "metadata": {
            "tags": []
          }
        }
      ]
    },
    {
      "cell_type": "markdown",
      "metadata": {
        "id": "5s7Zz1yKTgcT"
      },
      "source": [
        "# Feature Correlations"
      ]
    },
    {
      "cell_type": "code",
      "metadata": {
        "id": "Fz6sy21IMqyU"
      },
      "source": [
        "feature_corrs = train[features].corr()"
      ],
      "execution_count": null,
      "outputs": []
    },
    {
      "cell_type": "code",
      "metadata": {
        "id": "WHz_YeOzMtnh",
        "colab": {
          "base_uri": "https://localhost:8080/"
        },
        "outputId": "8667efe6-75c8-46c8-b435-c0a371d9f411"
      },
      "source": [
        "feature_corrs.stack().head()"
      ],
      "execution_count": null,
      "outputs": [
        {
          "output_type": "execute_result",
          "data": {
            "text/plain": [
              "Feature_1  Feature_1    1.000000\n",
              "           Feature_2    0.080772\n",
              "           Feature_3    0.112692\n",
              "           Feature_4   -0.018587\n",
              "           Feature_5   -0.018587\n",
              "dtype: float64"
            ]
          },
          "metadata": {
            "tags": []
          },
          "execution_count": 24
        }
      ]
    },
    {
      "cell_type": "code",
      "metadata": {
        "id": "4yC7z2b_MvbH",
        "colab": {
          "base_uri": "https://localhost:8080/"
        },
        "outputId": "35e5d701-ded7-4982-e9ab-11824e4ad0a4"
      },
      "source": [
        "tdf = feature_corrs.stack()\n",
        "tdf = tdf[tdf.index.get_level_values(0) < tdf.index.get_level_values(1)]\n",
        "tdf.sort_values()"
      ],
      "execution_count": null,
      "outputs": [
        {
          "output_type": "execute_result",
          "data": {
            "text/plain": [
              "Feature_2   Feature_5    -0.048020\n",
              "            Feature_4    -0.048020\n",
              "Feature_1   Feature_6    -0.041255\n",
              "            Feature_7    -0.041255\n",
              "Feature_3   Feature_4    -0.040623\n",
              "                            ...   \n",
              "Feature_7   Feature_9     0.729622\n",
              "Feature_10  Feature_13    0.835270\n",
              "Feature_6   Feature_7     1.000000\n",
              "Feature_4   Feature_5     1.000000\n",
              "Feature_8   Feature_9     1.000000\n",
              "Length: 78, dtype: float64"
            ]
          },
          "metadata": {
            "tags": []
          },
          "execution_count": 25
        }
      ]
    },
    {
      "cell_type": "code",
      "metadata": {
        "id": "JV1EOs_bTlof"
      },
      "source": [
        "moons = train.Moons"
      ],
      "execution_count": null,
      "outputs": []
    },
    {
      "cell_type": "code",
      "metadata": {
        "id": "s3nGHT4pMy18"
      },
      "source": [
        "df1 = train[moons<=moons.median()]\n",
        "df2 = train[moons>moons.median()]"
      ],
      "execution_count": null,
      "outputs": []
    },
    {
      "cell_type": "code",
      "metadata": {
        "id": "3GpYLiJlM0-J"
      },
      "source": [
        "corr1 = df1[features].corr().unstack()\n",
        "corr1 = corr1[corr1.index.get_level_values(0) < corr1.index.get_level_values(1)]"
      ],
      "execution_count": null,
      "outputs": []
    },
    {
      "cell_type": "code",
      "metadata": {
        "id": "W-MYapG7M1A1"
      },
      "source": [
        "corr2 = df2[features].corr().unstack()\n",
        "corr2 = corr2[corr2.index.get_level_values(0) < corr2.index.get_level_values(1)]"
      ],
      "execution_count": null,
      "outputs": []
    },
    {
      "cell_type": "code",
      "metadata": {
        "id": "NBoEFW6UM1Ey",
        "colab": {
          "base_uri": "https://localhost:8080/",
          "height": 402
        },
        "outputId": "f1efd000-53dc-42be-d4d1-936584b768c4"
      },
      "source": [
        "tdf = pd.DataFrame({\n",
        "    \"corr1\": corr1,\n",
        "    \"corr2\": corr2,\n",
        "})\n",
        "tdf[\"corr_diff\"] = tdf.corr2 - tdf.corr1\n",
        "tdf.sort_values(by=\"corr_diff\")"
      ],
      "execution_count": null,
      "outputs": [
        {
          "output_type": "execute_result",
          "data": {
            "text/html": [
              "<div>\n",
              "<style scoped>\n",
              "    .dataframe tbody tr th:only-of-type {\n",
              "        vertical-align: middle;\n",
              "    }\n",
              "\n",
              "    .dataframe tbody tr th {\n",
              "        vertical-align: top;\n",
              "    }\n",
              "\n",
              "    .dataframe thead th {\n",
              "        text-align: right;\n",
              "    }\n",
              "</style>\n",
              "<table border=\"1\" class=\"dataframe\">\n",
              "  <thead>\n",
              "    <tr style=\"text-align: right;\">\n",
              "      <th></th>\n",
              "      <th></th>\n",
              "      <th>corr1</th>\n",
              "      <th>corr2</th>\n",
              "      <th>corr_diff</th>\n",
              "    </tr>\n",
              "  </thead>\n",
              "  <tbody>\n",
              "    <tr>\n",
              "      <th>Feature_2</th>\n",
              "      <th>Feature_3</th>\n",
              "      <td>0.604079</td>\n",
              "      <td>0.507988</td>\n",
              "      <td>-0.096091</td>\n",
              "    </tr>\n",
              "    <tr>\n",
              "      <th>Feature_10</th>\n",
              "      <th>Feature_11</th>\n",
              "      <td>0.663545</td>\n",
              "      <td>0.578261</td>\n",
              "      <td>-0.085284</td>\n",
              "    </tr>\n",
              "    <tr>\n",
              "      <th rowspan=\"2\" valign=\"top\">Feature_2</th>\n",
              "      <th>Feature_8</th>\n",
              "      <td>0.018881</td>\n",
              "      <td>-0.060256</td>\n",
              "      <td>-0.079138</td>\n",
              "    </tr>\n",
              "    <tr>\n",
              "      <th>Feature_9</th>\n",
              "      <td>0.018881</td>\n",
              "      <td>-0.060256</td>\n",
              "      <td>-0.079138</td>\n",
              "    </tr>\n",
              "    <tr>\n",
              "      <th rowspan=\"3\" valign=\"top\">Feature_12</th>\n",
              "      <th>Feature_2</th>\n",
              "      <td>0.068771</td>\n",
              "      <td>-0.005034</td>\n",
              "      <td>-0.073805</td>\n",
              "    </tr>\n",
              "    <tr>\n",
              "      <th>...</th>\n",
              "      <td>...</td>\n",
              "      <td>...</td>\n",
              "      <td>...</td>\n",
              "    </tr>\n",
              "    <tr>\n",
              "      <th>Feature_6</th>\n",
              "      <td>0.132315</td>\n",
              "      <td>0.196615</td>\n",
              "      <td>0.064300</td>\n",
              "    </tr>\n",
              "    <tr>\n",
              "      <th rowspan=\"2\" valign=\"top\">Feature_10</th>\n",
              "      <th>Feature_6</th>\n",
              "      <td>0.104496</td>\n",
              "      <td>0.170975</td>\n",
              "      <td>0.066479</td>\n",
              "    </tr>\n",
              "    <tr>\n",
              "      <th>Feature_7</th>\n",
              "      <td>0.104496</td>\n",
              "      <td>0.170975</td>\n",
              "      <td>0.066479</td>\n",
              "    </tr>\n",
              "    <tr>\n",
              "      <th rowspan=\"2\" valign=\"top\">Feature_12</th>\n",
              "      <th>Feature_8</th>\n",
              "      <td>0.231826</td>\n",
              "      <td>0.300497</td>\n",
              "      <td>0.068672</td>\n",
              "    </tr>\n",
              "    <tr>\n",
              "      <th>Feature_9</th>\n",
              "      <td>0.231826</td>\n",
              "      <td>0.300497</td>\n",
              "      <td>0.068672</td>\n",
              "    </tr>\n",
              "  </tbody>\n",
              "</table>\n",
              "<p>78 rows × 3 columns</p>\n",
              "</div>"
            ],
            "text/plain": [
              "                          corr1     corr2  corr_diff\n",
              "Feature_2  Feature_3   0.604079  0.507988  -0.096091\n",
              "Feature_10 Feature_11  0.663545  0.578261  -0.085284\n",
              "Feature_2  Feature_8   0.018881 -0.060256  -0.079138\n",
              "           Feature_9   0.018881 -0.060256  -0.079138\n",
              "Feature_12 Feature_2   0.068771 -0.005034  -0.073805\n",
              "...                         ...       ...        ...\n",
              "           Feature_6   0.132315  0.196615   0.064300\n",
              "Feature_10 Feature_6   0.104496  0.170975   0.066479\n",
              "           Feature_7   0.104496  0.170975   0.066479\n",
              "Feature_12 Feature_8   0.231826  0.300497   0.068672\n",
              "           Feature_9   0.231826  0.300497   0.068672\n",
              "\n",
              "[78 rows x 3 columns]"
            ]
          },
          "metadata": {
            "tags": []
          },
          "execution_count": 30
        }
      ]
    },
    {
      "cell_type": "markdown",
      "metadata": {
        "id": "w-mCc6iDTsLH"
      },
      "source": [
        "# Feature Correlation over time (Moons)"
      ]
    },
    {
      "cell_type": "code",
      "metadata": {
        "id": "ZPvzmWGYM1Nc",
        "colab": {
          "base_uri": "https://localhost:8080/",
          "height": 431
        },
        "outputId": "3ba1aaeb-334a-47dc-9af9-92b46c0379c3"
      },
      "source": [
        "# Single features do not work consistently though\n",
        "by_moon_correlation = pd.Series({\n",
        "    moon: np.corrcoef(tdf['target_r'], tdf[\"Feature_2\"])[0,1]\n",
        "    for moon, tdf in train.groupby(moons)\n",
        "})\n",
        "by_moon_correlation.plot()"
      ],
      "execution_count": null,
      "outputs": [
        {
          "output_type": "stream",
          "text": [
            "/usr/local/lib/python3.7/dist-packages/numpy/lib/function_base.py:2559: RuntimeWarning: invalid value encountered in true_divide\n",
            "  c /= stddev[:, None]\n",
            "/usr/local/lib/python3.7/dist-packages/numpy/lib/function_base.py:2560: RuntimeWarning: invalid value encountered in true_divide\n",
            "  c /= stddev[None, :]\n"
          ],
          "name": "stderr"
        },
        {
          "output_type": "execute_result",
          "data": {
            "text/plain": [
              "<matplotlib.axes._subplots.AxesSubplot at 0x7fe6419aa4d0>"
            ]
          },
          "metadata": {
            "tags": []
          },
          "execution_count": 32
        },
        {
          "output_type": "display_data",
          "data": {
            "image/png": "[encoded data removed]",
            "text/plain": [
              "<Figure size 576x396 with 1 Axes>"
            ]
          },
          "metadata": {
            "tags": []
          }
        }
      ]
    },
    {
      "cell_type": "code",
      "metadata": {
        "id": "fRXR9gxHdrPa",
        "colab": {
          "base_uri": "https://localhost:8080/",
          "height": 364
        },
        "outputId": "fd133969-0d0e-4b7c-fbcf-c4912c850af4"
      },
      "source": [
        "# With a rolling 2 moons average you can see some trends\n",
        "by_moon_correlation.rolling(2).mean().plot()"
      ],
      "execution_count": null,
      "outputs": [
        {
          "output_type": "execute_result",
          "data": {
            "text/plain": [
              "<matplotlib.axes._subplots.AxesSubplot at 0x7fe637fc1750>"
            ]
          },
          "metadata": {
            "tags": []
          },
          "execution_count": 33
        },
        {
          "output_type": "display_data",
          "data": {
            "image/png": "[encoded data removed]",
            "text/plain": [
              "<Figure size 576x396 with 1 Axes>"
            ]
          },
          "metadata": {
            "tags": []
          }
        }
      ]
    },
    {
      "cell_type": "markdown",
      "metadata": {
        "id": "7i4dXmUBa6ba"
      },
      "source": [
        "# About\r\n",
        "\r\n",
        "Last updated: 2021-02-23\r\n",
        "\r\n",
        "Created by: [Jeremy Berros](https://github.com/jberros)\r\n",
        "\r\n",
        "Greatly inspired by the work from: [Jon Taylor](https://github.com/jonrtaylor)"
      ]
    },
    {
      "cell_type": "code",
      "metadata": {
        "id": "Cgzp7r8ca1YY"
      },
      "source": [
        ""
      ],
      "execution_count": null,
      "outputs": []
    }
  ]
}